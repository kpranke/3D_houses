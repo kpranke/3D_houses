{
 "cells": [
  {
   "cell_type": "code",
   "execution_count": 1,
   "id": "6576e166",
   "metadata": {},
   "outputs": [],
   "source": [
    "import pandas as pd\n",
    "import geopandas as gpd\n",
    "import rasterio\n",
    "import rasterio.features\n",
    "import rasterio.warp\n",
    "#Importing the Nominatim geocoder class \n",
    "#from geopy.geocoders import Nominatim\n",
    "from shapely.geometry import point, Polygon\n",
    "import matplotlib as plt\n",
    "\n",
    "%matplotlib inline"
   ]
  },
  {
   "cell_type": "markdown",
   "id": "ec126da4",
   "metadata": {},
   "source": [
    "## Open geotiff file"
   ]
  },
  {
   "cell_type": "code",
   "execution_count": 2,
   "id": "ab913eed",
   "metadata": {},
   "outputs": [
    {
     "name": "stdout",
     "output_type": "stream",
     "text": [
      "{'type': 'Polygon', 'coordinates': [[[4.296715, 51.532501], [4.296811, 51.46959], [4.311201, 51.469597], [4.31119, 51.478585], [4.325583, 51.478591], [4.325575, 51.487578], [4.339971, 51.487582], [4.339965, 51.49657], [4.368762, 51.496573], [4.368762, 51.50556], [4.397564, 51.505557], [4.39757, 51.514544], [4.426378, 51.514533], [4.42639, 51.523521], [4.484017, 51.523478], [4.484039, 51.532465], [4.296715, 51.532501]]]}\n",
      "{'type': 'Polygon', 'coordinates': [[[4.484039, 51.532465], [4.541677, 51.532395], [4.541375, 51.45151], [4.296839, 51.451615], [4.296811, 51.46959], [4.311201, 51.469597], [4.31119, 51.478585], [4.325583, 51.478591], [4.325575, 51.487578], [4.339971, 51.487582], [4.339965, 51.49657], [4.368762, 51.496573], [4.368762, 51.50556], [4.397564, 51.505557], [4.39757, 51.514544], [4.426378, 51.514533], [4.42639, 51.523521], [4.484017, 51.523478], [4.484039, 51.532465]]]}\n"
     ]
    }
   ],
   "source": [
    "# open an example geotiff file with rasterio\n",
    "\n",
    "with rasterio.open('DHMVIIDTMRAS1m_k01.tif') as dataset:\n",
    "\n",
    "    # Read the dataset's valid data mask as a ndarray.\n",
    "    mask = dataset.dataset_mask()\n",
    "\n",
    "    # Extract feature shapes and values from the array.\n",
    "    for geom, val in rasterio.features.shapes(\n",
    "            mask, transform=dataset.transform):\n",
    "\n",
    "        # Transform shapes from the dataset's own coordinate\n",
    "        # reference system to CRS84 (EPSG:4326).\n",
    "        geom = rasterio.warp.transform_geom(\n",
    "            dataset.crs, 'EPSG:4326', geom, precision=6)\n",
    "\n",
    "        # Print GeoJSON shapes to stdout.\n",
    "        print(geom)\n"
   ]
  },
  {
   "cell_type": "code",
   "execution_count": 13,
   "id": "7646c0d1",
   "metadata": {},
   "outputs": [],
   "source": [
    "df = pd.DataFrame.from_dict(geom)"
   ]
  },
  {
   "cell_type": "code",
   "execution_count": 15,
   "id": "cf925d67",
   "metadata": {},
   "outputs": [
    {
     "data": {
      "text/html": [
       "<div>\n",
       "<style scoped>\n",
       "    .dataframe tbody tr th:only-of-type {\n",
       "        vertical-align: middle;\n",
       "    }\n",
       "\n",
       "    .dataframe tbody tr th {\n",
       "        vertical-align: top;\n",
       "    }\n",
       "\n",
       "    .dataframe thead th {\n",
       "        text-align: right;\n",
       "    }\n",
       "</style>\n",
       "<table border=\"1\" class=\"dataframe\">\n",
       "  <thead>\n",
       "    <tr style=\"text-align: right;\">\n",
       "      <th></th>\n",
       "      <th>type</th>\n",
       "      <th>coordinates</th>\n",
       "    </tr>\n",
       "  </thead>\n",
       "  <tbody>\n",
       "    <tr>\n",
       "      <th>0</th>\n",
       "      <td>Polygon</td>\n",
       "      <td>[[4.484039, 51.532465], [4.541677, 51.532395],...</td>\n",
       "    </tr>\n",
       "  </tbody>\n",
       "</table>\n",
       "</div>"
      ],
      "text/plain": [
       "      type                                        coordinates\n",
       "0  Polygon  [[4.484039, 51.532465], [4.541677, 51.532395],..."
      ]
     },
     "execution_count": 15,
     "metadata": {},
     "output_type": "execute_result"
    }
   ],
   "source": [
    "df.head()"
   ]
  },
  {
   "cell_type": "markdown",
   "id": "bf3e4907",
   "metadata": {},
   "source": [
    "## Open .shp file"
   ]
  },
  {
   "cell_type": "code",
   "execution_count": 14,
   "id": "4d1177a5",
   "metadata": {},
   "outputs": [],
   "source": [
    "path = 'C:/Users/kasia/pyproj/3D_houses/DHMVIIDTMRAS1m_k01/DHMVII_vdc_k01/DHMVII_vdc_k01.shp'"
   ]
  },
  {
   "cell_type": "code",
   "execution_count": 17,
   "id": "01e4d4e6",
   "metadata": {
    "scrolled": true
   },
   "outputs": [],
   "source": [
    "test = gpd.read_file(path)"
   ]
  },
  {
   "cell_type": "code",
   "execution_count": 18,
   "id": "24459204",
   "metadata": {},
   "outputs": [
    {
     "data": {
      "text/html": [
       "<div>\n",
       "<style scoped>\n",
       "    .dataframe tbody tr th:only-of-type {\n",
       "        vertical-align: middle;\n",
       "    }\n",
       "\n",
       "    .dataframe tbody tr th {\n",
       "        vertical-align: top;\n",
       "    }\n",
       "\n",
       "    .dataframe thead th {\n",
       "        text-align: right;\n",
       "    }\n",
       "</style>\n",
       "<table border=\"1\" class=\"dataframe\">\n",
       "  <thead>\n",
       "    <tr style=\"text-align: right;\">\n",
       "      <th></th>\n",
       "      <th>Id</th>\n",
       "      <th>OpnDatum1</th>\n",
       "      <th>OpnDatum2</th>\n",
       "      <th>geometry</th>\n",
       "    </tr>\n",
       "  </thead>\n",
       "  <tbody>\n",
       "    <tr>\n",
       "      <th>0</th>\n",
       "      <td>0</td>\n",
       "      <td>2013-02-20</td>\n",
       "      <td>None</td>\n",
       "      <td>MULTIPOLYGON Z (((162079.010 238604.770 0.000,...</td>\n",
       "    </tr>\n",
       "    <tr>\n",
       "      <th>1</th>\n",
       "      <td>0</td>\n",
       "      <td>2013-04-01</td>\n",
       "      <td>None</td>\n",
       "      <td>POLYGON Z ((148803.300 243432.780 0.000, 14882...</td>\n",
       "    </tr>\n",
       "    <tr>\n",
       "      <th>2</th>\n",
       "      <td>0</td>\n",
       "      <td>2013-02-20</td>\n",
       "      <td>2013-04-01</td>\n",
       "      <td>MULTIPOLYGON Z (((156554.470 243736.800 0.000,...</td>\n",
       "    </tr>\n",
       "  </tbody>\n",
       "</table>\n",
       "</div>"
      ],
      "text/plain": [
       "   Id   OpnDatum1   OpnDatum2  \\\n",
       "0   0  2013-02-20        None   \n",
       "1   0  2013-04-01        None   \n",
       "2   0  2013-02-20  2013-04-01   \n",
       "\n",
       "                                            geometry  \n",
       "0  MULTIPOLYGON Z (((162079.010 238604.770 0.000,...  \n",
       "1  POLYGON Z ((148803.300 243432.780 0.000, 14882...  \n",
       "2  MULTIPOLYGON Z (((156554.470 243736.800 0.000,...  "
      ]
     },
     "execution_count": 18,
     "metadata": {},
     "output_type": "execute_result"
    }
   ],
   "source": [
    "test"
   ]
  },
  {
   "cell_type": "code",
   "execution_count": 19,
   "id": "871b6688",
   "metadata": {},
   "outputs": [
    {
     "data": {
      "text/plain": [
       "<AxesSubplot:>"
      ]
     },
     "execution_count": 19,
     "metadata": {},
     "output_type": "execute_result"
    },
    {
     "data": {
      "image/png": "[encoded data removed]",
      "text/plain": [
       "<Figure size 432x288 with 1 Axes>"
      ]
     },
     "metadata": {
      "needs_background": "light"
     },
     "output_type": "display_data"
    }
   ],
   "source": [
    "test.plot()"
   ]
  },
  {
   "cell_type": "markdown",
   "id": "e09a52e0",
   "metadata": {},
   "source": [
    "## Geocode the provided address:"
   ]
  },
  {
   "cell_type": "code",
   "execution_count": 16,
   "id": "874d2150",
   "metadata": {},
   "outputs": [],
   "source": [
    "address = 'Tolhuis, Sint-Pietersvliet 7, 2000 Antwerpen'"
   ]
  },
  {
   "cell_type": "code",
   "execution_count": 8,
   "id": "0c11d7c3",
   "metadata": {},
   "outputs": [],
   "source": [
    "location = gpd.tools.geocode(address)"
   ]
  },
  {
   "cell_type": "code",
   "execution_count": 9,
   "id": "4f215bc9",
   "metadata": {},
   "outputs": [
    {
     "data": {
      "text/html": [
       "<div>\n",
       "<style scoped>\n",
       "    .dataframe tbody tr th:only-of-type {\n",
       "        vertical-align: middle;\n",
       "    }\n",
       "\n",
       "    .dataframe tbody tr th {\n",
       "        vertical-align: top;\n",
       "    }\n",
       "\n",
       "    .dataframe thead th {\n",
       "        text-align: right;\n",
       "    }\n",
       "</style>\n",
       "<table border=\"1\" class=\"dataframe\">\n",
       "  <thead>\n",
       "    <tr style=\"text-align: right;\">\n",
       "      <th></th>\n",
       "      <th>geometry</th>\n",
       "      <th>address</th>\n",
       "    </tr>\n",
       "  </thead>\n",
       "  <tbody>\n",
       "    <tr>\n",
       "      <th>0</th>\n",
       "      <td>POINT (4.40084 51.22561)</td>\n",
       "      <td>The Beacon (Tolhuis), 7, Sint-Pietersvliet, 20...</td>\n",
       "    </tr>\n",
       "  </tbody>\n",
       "</table>\n",
       "</div>"
      ],
      "text/plain": [
       "                   geometry                                            address\n",
       "0  POINT (4.40084 51.22561)  The Beacon (Tolhuis), 7, Sint-Pietersvliet, 20..."
      ]
     },
     "execution_count": 9,
     "metadata": {},
     "output_type": "execute_result"
    }
   ],
   "source": [
    "location"
   ]
  },
  {
   "cell_type": "code",
   "execution_count": 10,
   "id": "1d86874d",
   "metadata": {},
   "outputs": [
    {
     "data": {
      "text/plain": [
       "<AxesSubplot:>"
      ]
     },
     "execution_count": 10,
     "metadata": {},
     "output_type": "execute_result"
    },
    {
     "data": {
      "image/png": "[encoded data removed]",
      "text/plain": [
       "<Figure size 432x288 with 1 Axes>"
      ]
     },
     "metadata": {
      "needs_background": "light"
     },
     "output_type": "display_data"
    }
   ],
   "source": [
    "location.geometry.plot()"
   ]
  },
  {
   "cell_type": "code",
   "execution_count": null,
   "id": "9a6788e3",
   "metadata": {},
   "outputs": [],
   "source": []
  }
 ],
 "metadata": {
  "kernelspec": {
   "display_name": "Python 3 (ipykernel)",
   "language": "python",
   "name": "python3"
  },
  "language_info": {
   "codemirror_mode": {
    "name": "ipython",
    "version": 3
   },
   "file_extension": ".py",
   "mimetype": "text/x-python",
   "name": "python",
   "nbconvert_exporter": "python",
   "pygments_lexer": "ipython3",
   "version": "3.9.4"
  }
 },
 "nbformat": 4,
 "nbformat_minor": 5
}
