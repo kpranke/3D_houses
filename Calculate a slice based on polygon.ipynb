{
 "cells": [
  {
   "cell_type": "code",
   "execution_count": 35,
   "id": "5196fbf8",
   "metadata": {},
   "outputs": [],
   "source": [
    "import pandas as pd\n",
    "import geopandas as gpd\n",
    "import rasterio\n",
    "import rasterio.features\n",
    "import rasterio.warp\n",
    "from rasterio.plot import show\n",
    "#Importing the Nominatim geocoder class \n",
    "#from geopy.geocoders import Nominatim\n",
    "from shapely.geometry import point, Polygon\n",
    "import rioxarray\n",
    "from pyproj import CRS\n",
    "from mpl_toolkits import mplot3d\n",
    "import numpy as np\n",
    "import matplotlib.pyplot as plt\n",
    "import requests\n",
    "from osgeo import gdal\n",
    "from osgeo import ogr\n",
    "import fiona\n",
    "%matplotlib inline\n",
    "from shapely.geometry import Polygon\n",
    "import shapefile"
   ]
  },
  {
   "cell_type": "code",
   "execution_count": 36,
   "id": "f5337bd0",
   "metadata": {},
   "outputs": [
    {
     "name": "stdout",
     "output_type": "stream",
     "text": [
      "Provide a valid address in Flanders: \n"
     ]
    }
   ],
   "source": [
    "address = input('Provide a valid address in Flanders: ')\n",
    "#Heikantstraat 124, 2910 Essen\n",
    "#Epicealaan 28, 2910 Essen\n",
    "#Moerkantsebaan 34, 2910 Essen\n",
    "#Maststraat 2, 2910 Essen"
   ]
  },
  {
   "cell_type": "code",
   "execution_count": 37,
   "id": "6f09c1ba",
   "metadata": {},
   "outputs": [],
   "source": [
    "# get a polygoon based on address in Flanders\n",
    "\n",
    "def get_coordinates(address: str):\n",
    "    req = requests.get(f\"https://loc.geopunt.be/v4/Location?q={address}\").json()\n",
    "    info = {'address' : address, \n",
    "                'x_value' : req['LocationResult'][0]['Location']['X_Lambert72'],\n",
    "                'y_value' : req['LocationResult'][0]['Location']['Y_Lambert72'],\n",
    "                'street' : req['LocationResult'][0]['Thoroughfarename'],\n",
    "                'house_number' : req['LocationResult'][0]['Housenumber'], \n",
    "                'postcode': req['LocationResult'][0]['Zipcode'], \n",
    "                'municipality' : req['LocationResult'][0]['Municipality']}\n",
    "    \n",
    "    detail = requests.get(\"https://api.basisregisters.vlaanderen.be/v1/adresmatch\", \n",
    "                          params={\"postcode\": info['postcode'], \n",
    "                                  \"straatnaam\": info['street'],\n",
    "                                  \"huisnummer\": info['house_number']}).json()\n",
    "    building = requests.get(detail['adresMatches'][0]['adresseerbareObjecten'][0]['detail']).json()\n",
    "    build = requests.get(building['gebouw']['detail']).json()\n",
    "    info['polygon'] = [build['geometriePolygoon']['polygon']]\n",
    "    return info['polygon'][0]['coordinates'][0] "
   ]
  },
  {
   "cell_type": "code",
   "execution_count": 38,
   "id": "571b6279",
   "metadata": {},
   "outputs": [
    {
     "ename": "IndexError",
     "evalue": "list index out of range",
     "output_type": "error",
     "traceback": [
      "\u001b[1;31m---------------------------------------------------------------------------\u001b[0m",
      "\u001b[1;31mIndexError\u001b[0m                                Traceback (most recent call last)",
      "\u001b[1;32m~\\AppData\\Local\\Temp/ipykernel_225136/2072870247.py\u001b[0m in \u001b[0;36m<module>\u001b[1;34m\u001b[0m\n\u001b[0;32m      1\u001b[0m \u001b[1;31m# store polygon in a variable\u001b[0m\u001b[1;33m\u001b[0m\u001b[1;33m\u001b[0m\u001b[1;33m\u001b[0m\u001b[0m\n\u001b[1;32m----> 2\u001b[1;33m \u001b[0mpolygon\u001b[0m \u001b[1;33m=\u001b[0m \u001b[0mget_coordinates\u001b[0m\u001b[1;33m(\u001b[0m\u001b[0maddress\u001b[0m\u001b[1;33m)\u001b[0m\u001b[1;33m\u001b[0m\u001b[1;33m\u001b[0m\u001b[0m\n\u001b[0m\u001b[0;32m      3\u001b[0m \u001b[0mpolygon\u001b[0m\u001b[1;33m\u001b[0m\u001b[1;33m\u001b[0m\u001b[0m\n",
      "\u001b[1;32m~\\AppData\\Local\\Temp/ipykernel_225136/721530446.py\u001b[0m in \u001b[0;36mget_coordinates\u001b[1;34m(address)\u001b[0m\n\u001b[0;32m      4\u001b[0m     \u001b[0mreq\u001b[0m \u001b[1;33m=\u001b[0m \u001b[0mrequests\u001b[0m\u001b[1;33m.\u001b[0m\u001b[0mget\u001b[0m\u001b[1;33m(\u001b[0m\u001b[1;34mf\"https://loc.geopunt.be/v4/Location?q={address}\"\u001b[0m\u001b[1;33m)\u001b[0m\u001b[1;33m.\u001b[0m\u001b[0mjson\u001b[0m\u001b[1;33m(\u001b[0m\u001b[1;33m)\u001b[0m\u001b[1;33m\u001b[0m\u001b[1;33m\u001b[0m\u001b[0m\n\u001b[0;32m      5\u001b[0m     info = {'address' : address, \n\u001b[1;32m----> 6\u001b[1;33m                 \u001b[1;34m'x_value'\u001b[0m \u001b[1;33m:\u001b[0m \u001b[0mreq\u001b[0m\u001b[1;33m[\u001b[0m\u001b[1;34m'LocationResult'\u001b[0m\u001b[1;33m]\u001b[0m\u001b[1;33m[\u001b[0m\u001b[1;36m0\u001b[0m\u001b[1;33m]\u001b[0m\u001b[1;33m[\u001b[0m\u001b[1;34m'Location'\u001b[0m\u001b[1;33m]\u001b[0m\u001b[1;33m[\u001b[0m\u001b[1;34m'X_Lambert72'\u001b[0m\u001b[1;33m]\u001b[0m\u001b[1;33m,\u001b[0m\u001b[1;33m\u001b[0m\u001b[1;33m\u001b[0m\u001b[0m\n\u001b[0m\u001b[0;32m      7\u001b[0m                 \u001b[1;34m'y_value'\u001b[0m \u001b[1;33m:\u001b[0m \u001b[0mreq\u001b[0m\u001b[1;33m[\u001b[0m\u001b[1;34m'LocationResult'\u001b[0m\u001b[1;33m]\u001b[0m\u001b[1;33m[\u001b[0m\u001b[1;36m0\u001b[0m\u001b[1;33m]\u001b[0m\u001b[1;33m[\u001b[0m\u001b[1;34m'Location'\u001b[0m\u001b[1;33m]\u001b[0m\u001b[1;33m[\u001b[0m\u001b[1;34m'Y_Lambert72'\u001b[0m\u001b[1;33m]\u001b[0m\u001b[1;33m,\u001b[0m\u001b[1;33m\u001b[0m\u001b[1;33m\u001b[0m\u001b[0m\n\u001b[0;32m      8\u001b[0m                 \u001b[1;34m'street'\u001b[0m \u001b[1;33m:\u001b[0m \u001b[0mreq\u001b[0m\u001b[1;33m[\u001b[0m\u001b[1;34m'LocationResult'\u001b[0m\u001b[1;33m]\u001b[0m\u001b[1;33m[\u001b[0m\u001b[1;36m0\u001b[0m\u001b[1;33m]\u001b[0m\u001b[1;33m[\u001b[0m\u001b[1;34m'Thoroughfarename'\u001b[0m\u001b[1;33m]\u001b[0m\u001b[1;33m,\u001b[0m\u001b[1;33m\u001b[0m\u001b[1;33m\u001b[0m\u001b[0m\n",
      "\u001b[1;31mIndexError\u001b[0m: list index out of range"
     ]
    }
   ],
   "source": [
    "# store polygon in a variable\n",
    "polygon = get_coordinates(address)\n",
    "polygon"
   ]
  },
  {
   "cell_type": "code",
   "execution_count": 39,
   "id": "fba031c5",
   "metadata": {},
   "outputs": [
    {
     "data": {
      "text/plain": [
       "[155223.95828686655,\n",
       " 155213.6574228555,\n",
       " 155171.2693908289,\n",
       " 155173.66260682791,\n",
       " 155164.09172682464,\n",
       " 155166.7246228233,\n",
       " 155165.0949908197,\n",
       " 155165.15828682482,\n",
       " 155150.4937108159,\n",
       " 155151.53620681167,\n",
       " 155143.31067080796,\n",
       " 155146.09659080952,\n",
       " 155168.936590828,\n",
       " 155169.29281482846,\n",
       " 155180.87329483032,\n",
       " 155180.56359883398,\n",
       " 155223.95828686655]"
      ]
     },
     "execution_count": 39,
     "metadata": {},
     "output_type": "execute_result"
    }
   ],
   "source": [
    "x_polygon = [i[0] for i in polygon]\n",
    "x_polygon"
   ]
  },
  {
   "cell_type": "code",
   "execution_count": 40,
   "id": "cc3dbc40",
   "metadata": {},
   "outputs": [
    {
     "data": {
      "text/plain": [
       "[238871.00343171507,\n",
       " 238914.83779974654,\n",
       " 238906.44547973946,\n",
       " 238893.92829573154,\n",
       " 238892.03107972816,\n",
       " 238879.8068237193,\n",
       " 238879.46730371937,\n",
       " 238879.06019971892,\n",
       " 238876.21552771702,\n",
       " 238871.08951171488,\n",
       " 238869.4486797154,\n",
       " 238855.5521037057,\n",
       " 238860.08458370715,\n",
       " 238858.41258370504,\n",
       " 238860.7199757062,\n",
       " 238862.39191170782,\n",
       " 238871.00343171507]"
      ]
     },
     "execution_count": 40,
     "metadata": {},
     "output_type": "execute_result"
    }
   ],
   "source": [
    "y_polygon = [i[1] for i in polygon]\n",
    "y_polygon"
   ]
  },
  {
   "cell_type": "code",
   "execution_count": 41,
   "id": "1c914f92",
   "metadata": {},
   "outputs": [
    {
     "name": "stdout",
     "output_type": "stream",
     "text": [
      "POLYGON ((155223.9582868665 238871.0034317151, 155213.6574228555 238914.8377997465, 155171.2693908289 238906.4454797395, 155173.6626068279 238893.9282957315, 155164.0917268246 238892.0310797282, 155166.7246228233 238879.8068237193, 155165.0949908197 238879.4673037194, 155165.1582868248 238879.0601997189, 155150.4937108159 238876.215527717, 155151.5362068117 238871.0895117149, 155143.310670808 238869.4486797154, 155146.0965908095 238855.5521037057, 155168.936590828 238860.0845837072, 155169.2928148285 238858.412583705, 155180.8732948303 238860.7199757062, 155180.563598834 238862.3919117078, 155223.9582868665 238871.0034317151))\n"
     ]
    }
   ],
   "source": [
    "polygon_shapely = Polygon(polygon)\n",
    "print(polygon_shapely)"
   ]
  },
  {
   "cell_type": "code",
   "execution_count": 42,
   "id": "3754e121",
   "metadata": {},
   "outputs": [
    {
     "name": "stdout",
     "output_type": "stream",
     "text": [
      "left = 155143.31067080796, right = 155223.95828686655, top = 238914.83779974654, bottom = 238855.5521037057\n"
     ]
    }
   ],
   "source": [
    "left = min(x_polygon)\n",
    "right = max(x_polygon)\n",
    "top = max(y_polygon)\n",
    "bottom = min(y_polygon)\n",
    "print(f\"left = {left}, right = {right}, top = {top}, bottom = {bottom}\")"
   ]
  },
  {
   "cell_type": "code",
   "execution_count": 43,
   "id": "e712575f",
   "metadata": {},
   "outputs": [
    {
     "data": {
      "text/plain": [
       "float"
      ]
     },
     "execution_count": 43,
     "metadata": {},
     "output_type": "execute_result"
    }
   ],
   "source": [
    "type(left)"
   ]
  },
  {
   "cell_type": "code",
   "execution_count": 44,
   "id": "159ceffa",
   "metadata": {},
   "outputs": [],
   "source": [
    "# create a rectangle which contains the polygoon (left,bottom, right, top)"
   ]
  },
  {
   "cell_type": "code",
   "execution_count": 45,
   "id": "60b76f87",
   "metadata": {},
   "outputs": [
    {
     "data": {
      "text/plain": [
       "[[155143.31067080796,\n",
       "  238855.5521037057,\n",
       "  155223.95828686655,\n",
       "  238914.83779974654]]"
      ]
     },
     "execution_count": 45,
     "metadata": {},
     "output_type": "execute_result"
    }
   ],
   "source": [
    "polygon_bounds = [[left,bottom, right, top]]\n",
    "polygon_bounds"
   ]
  },
  {
   "cell_type": "code",
   "execution_count": 46,
   "id": "9210c3d5",
   "metadata": {},
   "outputs": [],
   "source": [
    "# find to which file belong polygon_bounds - loop over the the DTM_bounds.csv"
   ]
  },
  {
   "cell_type": "code",
   "execution_count": 47,
   "id": "2776e3dc",
   "metadata": {},
   "outputs": [],
   "source": [
    "df = pd.read_csv('DTM_bounds.csv')"
   ]
  },
  {
   "cell_type": "code",
   "execution_count": 48,
   "id": "85d7860a",
   "metadata": {},
   "outputs": [
    {
     "name": "stdout",
     "output_type": "stream",
     "text": [
      "<class 'pandas.core.frame.DataFrame'>\n",
      "RangeIndex: 43 entries, 0 to 42\n",
      "Data columns (total 5 columns):\n",
      " #   Column  Non-Null Count  Dtype  \n",
      "---  ------  --------------  -----  \n",
      " 0   url     43 non-null     object \n",
      " 1   left    43 non-null     float64\n",
      " 2   right   43 non-null     float64\n",
      " 3   top     43 non-null     float64\n",
      " 4   bottom  43 non-null     float64\n",
      "dtypes: float64(4), object(1)\n",
      "memory usage: 1.8+ KB\n"
     ]
    }
   ],
   "source": [
    "df.info()"
   ]
  },
  {
   "cell_type": "code",
   "execution_count": 49,
   "id": "a014c197",
   "metadata": {},
   "outputs": [
    {
     "data": {
      "text/html": [
       "<div>\n",
       "<style scoped>\n",
       "    .dataframe tbody tr th:only-of-type {\n",
       "        vertical-align: middle;\n",
       "    }\n",
       "\n",
       "    .dataframe tbody tr th {\n",
       "        vertical-align: top;\n",
       "    }\n",
       "\n",
       "    .dataframe thead th {\n",
       "        text-align: right;\n",
       "    }\n",
       "</style>\n",
       "<table border=\"1\" class=\"dataframe\">\n",
       "  <thead>\n",
       "    <tr style=\"text-align: right;\">\n",
       "      <th></th>\n",
       "      <th>url</th>\n",
       "      <th>left</th>\n",
       "      <th>right</th>\n",
       "      <th>top</th>\n",
       "      <th>bottom</th>\n",
       "    </tr>\n",
       "  </thead>\n",
       "  <tbody>\n",
       "    <tr>\n",
       "      <th>0</th>\n",
       "      <td>zip+https://downloadagiv.blob.core.windows.net...</td>\n",
       "      <td>145000.0</td>\n",
       "      <td>162000.0</td>\n",
       "      <td>247000.0</td>\n",
       "      <td>238000.0</td>\n",
       "    </tr>\n",
       "    <tr>\n",
       "      <th>1</th>\n",
       "      <td>zip+https://downloadagiv.blob.core.windows.net...</td>\n",
       "      <td>162000.0</td>\n",
       "      <td>194000.0</td>\n",
       "      <td>250000.0</td>\n",
       "      <td>238000.0</td>\n",
       "    </tr>\n",
       "    <tr>\n",
       "      <th>2</th>\n",
       "      <td>zip+https://downloadagiv.blob.core.windows.net...</td>\n",
       "      <td>194000.0</td>\n",
       "      <td>206000.0</td>\n",
       "      <td>248000.0</td>\n",
       "      <td>238000.0</td>\n",
       "    </tr>\n",
       "    <tr>\n",
       "      <th>3</th>\n",
       "      <td>zip+https://downloadagiv.blob.core.windows.net...</td>\n",
       "      <td>53000.0</td>\n",
       "      <td>66000.0</td>\n",
       "      <td>225500.0</td>\n",
       "      <td>218000.0</td>\n",
       "    </tr>\n",
       "    <tr>\n",
       "      <th>4</th>\n",
       "      <td>zip+https://downloadagiv.blob.core.windows.net...</td>\n",
       "      <td>66000.0</td>\n",
       "      <td>98000.0</td>\n",
       "      <td>232000.0</td>\n",
       "      <td>218000.0</td>\n",
       "    </tr>\n",
       "  </tbody>\n",
       "</table>\n",
       "</div>"
      ],
      "text/plain": [
       "                                                 url      left     right  \\\n",
       "0  zip+https://downloadagiv.blob.core.windows.net...  145000.0  162000.0   \n",
       "1  zip+https://downloadagiv.blob.core.windows.net...  162000.0  194000.0   \n",
       "2  zip+https://downloadagiv.blob.core.windows.net...  194000.0  206000.0   \n",
       "3  zip+https://downloadagiv.blob.core.windows.net...   53000.0   66000.0   \n",
       "4  zip+https://downloadagiv.blob.core.windows.net...   66000.0   98000.0   \n",
       "\n",
       "        top    bottom  \n",
       "0  247000.0  238000.0  \n",
       "1  250000.0  238000.0  \n",
       "2  248000.0  238000.0  \n",
       "3  225500.0  218000.0  \n",
       "4  232000.0  218000.0  "
      ]
     },
     "execution_count": 49,
     "metadata": {},
     "output_type": "execute_result"
    }
   ],
   "source": [
    "df.head()"
   ]
  },
  {
   "cell_type": "code",
   "execution_count": 51,
   "id": "01f3e03f",
   "metadata": {},
   "outputs": [
    {
     "name": "stdout",
     "output_type": "stream",
     "text": [
      "zip+https://downloadagiv.blob.core.windows.net/dhm-vlaanderen-ii-dtm-raster-1m/DHMVIIDTMRAS1m_k01.zip!/GeoTIFF/DHMVIIDTMRAS1m_k01.tif\n"
     ]
    }
   ],
   "source": [
    "for index, row in df.iterrows():\n",
    "    if left >= row.left and right <= row.right and top <= row.top and bottom >= row.bottom:\n",
    "        print(row.url)"
   ]
  },
  {
   "cell_type": "code",
   "execution_count": null,
   "id": "fbad01a3",
   "metadata": {},
   "outputs": [],
   "source": []
  }
 ],
 "metadata": {
  "kernelspec": {
   "display_name": "Python 3 (ipykernel)",
   "language": "python",
   "name": "python3"
  },
  "language_info": {
   "codemirror_mode": {
    "name": "ipython",
    "version": 3
   },
   "file_extension": ".py",
   "mimetype": "text/x-python",
   "name": "python",
   "nbconvert_exporter": "python",
   "pygments_lexer": "ipython3",
   "version": "3.9.4"
  }
 },
 "nbformat": 4,
 "nbformat_minor": 5
}
