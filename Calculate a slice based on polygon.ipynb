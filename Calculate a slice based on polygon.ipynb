{
 "cells": [
  {
   "cell_type": "code",
   "execution_count": 1,
   "id": "5196fbf8",
   "metadata": {},
   "outputs": [],
   "source": [
    "import pandas as pd\n",
    "import geopandas as gpd\n",
    "import rasterio\n",
    "import rasterio.features\n",
    "import rasterio.warp\n",
    "from rasterio.plot import show\n",
    "from shapely.geometry import point, Polygon\n",
    "import rioxarray\n",
    "from pyproj import CRS\n",
    "from mpl_toolkits import mplot3d\n",
    "import numpy as np\n",
    "import matplotlib.pyplot as plt\n",
    "import requests\n",
    "from osgeo import gdal\n",
    "from osgeo import ogr\n",
    "import fiona\n",
    "%matplotlib inline\n",
    "from shapely.geometry import Polygon\n",
    "import shapefile\n",
    "\n",
    "from rasterio.mask import mask\n",
    "import plotly.graph_objects as go"
   ]
  },
  {
   "cell_type": "code",
   "execution_count": 2,
   "id": "f5337bd0",
   "metadata": {},
   "outputs": [],
   "source": [
    "address = 'Stadsplein 2, 2640 Mortsel'\n",
    "#address = input('Provide a valid address in Flanders: ')\n",
    "#Heikantstraat 124, 2910 Essen\n",
    "#Epicealaan 28, 2910 Essen\n",
    "#Moerkantsebaan 34, 2910 Essen\n",
    "#Maststraat 2, 2910 Essen"
   ]
  },
  {
   "cell_type": "code",
   "execution_count": 3,
   "id": "6f09c1ba",
   "metadata": {},
   "outputs": [],
   "source": [
    "# get a polygoon based on address in Flanders\n",
    "\n",
    "def get_coordinates(address: str):\n",
    "    req = requests.get(f\"https://loc.geopunt.be/v4/Location?q={address}\").json()\n",
    "    info = {'address' : address, \n",
    "                'x_value' : req['LocationResult'][0]['Location']['X_Lambert72'],\n",
    "                'y_value' : req['LocationResult'][0]['Location']['Y_Lambert72'],\n",
    "                'street' : req['LocationResult'][0]['Thoroughfarename'],\n",
    "                'house_number' : req['LocationResult'][0]['Housenumber'], \n",
    "                'postcode': req['LocationResult'][0]['Zipcode'], \n",
    "                'municipality' : req['LocationResult'][0]['Municipality']}\n",
    "    \n",
    "    detail = requests.get(\"https://api.basisregisters.vlaanderen.be/v1/adresmatch\", \n",
    "                          params={\"postcode\": info['postcode'], \n",
    "                                  \"straatnaam\": info['street'],\n",
    "                                  \"huisnummer\": info['house_number']}).json()\n",
    "    building = requests.get(detail['adresMatches'][0]['adresseerbareObjecten'][0]['detail']).json()\n",
    "    build = requests.get(building['gebouw']['detail']).json()\n",
    "    info['polygon'] = [build['geometriePolygoon']['polygon']]\n",
    "    return info['polygon'][0]['coordinates'][0] "
   ]
  },
  {
   "cell_type": "code",
   "execution_count": 4,
   "id": "571b6279",
   "metadata": {},
   "outputs": [],
   "source": [
    "# store polygon in a variable\n",
    "polygon = get_coordinates(address)"
   ]
  },
  {
   "cell_type": "code",
   "execution_count": 5,
   "id": "fba031c5",
   "metadata": {},
   "outputs": [],
   "source": [
    "x_polygon = [i[0] for i in polygon]"
   ]
  },
  {
   "cell_type": "code",
   "execution_count": 6,
   "id": "cc3dbc40",
   "metadata": {},
   "outputs": [],
   "source": [
    "y_polygon = [i[1] for i in polygon]"
   ]
  },
  {
   "cell_type": "code",
   "execution_count": 7,
   "id": "1c914f92",
   "metadata": {},
   "outputs": [],
   "source": [
    "# convert polygon to a Shapely format\n",
    "polygon_shapely = Polygon(polygon)\n",
    "polygon_shapely.buffer(2.0)\n",
    "\n",
    "# save a polygon to a .shp file\n",
    "w = shapefile.Writer('shapefiles/polygon')\n",
    "w.field('name', 'C')\n",
    "\n",
    "w.poly([polygon])\n",
    "w.record('polygon1')\n",
    "\n",
    "w.close()"
   ]
  },
  {
   "cell_type": "code",
   "execution_count": 8,
   "id": "0c13b54d",
   "metadata": {},
   "outputs": [
    {
     "data": {
      "text/plain": [
       "134.36859495742723"
      ]
     },
     "execution_count": 8,
     "metadata": {},
     "output_type": "execute_result"
    }
   ],
   "source": [
    "polygon_shapely.area"
   ]
  },
  {
   "cell_type": "code",
   "execution_count": 9,
   "id": "5974f681",
   "metadata": {},
   "outputs": [
    {
     "data": {
      "image/svg+xml": [
       "<svg xmlns=\"http://www.w3.org/2000/svg\" xmlns:xlink=\"http://www.w3.org/1999/xlink\" width=\"100.0\" height=\"100.0\" viewBox=\"156121.2971854052 206746.90025943055 14.720796169654932 19.64860417129239\" preserveAspectRatio=\"xMinYMin meet\"><g transform=\"matrix(1,0,0,-1,0,413513.4491230324)\"><path fill-rule=\"evenodd\" fill=\"#66cc99\" stroke=\"#555555\" stroke-width=\"0.39297208342584783\" opacity=\"0.6\" d=\"M 156135.29025549442,206750.41800151393 L 156129.7835034877,206765.82113752142 L 156122.0249114856,206763.01601752266 L 156127.60865548998,206747.62798551098 L 156135.29025549442,206750.41800151393 z\" /></g></svg>"
      ],
      "text/plain": [
       "<shapely.geometry.polygon.Polygon at 0x2b12fa87100>"
      ]
     },
     "execution_count": 9,
     "metadata": {},
     "output_type": "execute_result"
    }
   ],
   "source": [
    "polygon_shapely"
   ]
  },
  {
   "cell_type": "code",
   "execution_count": 10,
   "id": "67fdfff0",
   "metadata": {},
   "outputs": [],
   "source": [
    "polygon_path = 'C:/Users/kasia/pyproj/3D_houses/shapefiles/polygon.shp'"
   ]
  },
  {
   "cell_type": "code",
   "execution_count": 11,
   "id": "3754e121",
   "metadata": {},
   "outputs": [],
   "source": [
    "# calculate bounds of a rectangle that contains the polygon\n",
    "left = min(x_polygon)\n",
    "right = max(x_polygon)\n",
    "top = max(y_polygon)\n",
    "bottom = min(y_polygon)\n",
    "# print(f\"left = {left}, right = {right}, top = {top}, bottom = {bottom}\")"
   ]
  },
  {
   "cell_type": "code",
   "execution_count": 12,
   "id": "159ceffa",
   "metadata": {},
   "outputs": [],
   "source": [
    "# create a rectangle which contains the polygoon (left,bottom, right, top)"
   ]
  },
  {
   "cell_type": "code",
   "execution_count": 13,
   "id": "60b76f87",
   "metadata": {},
   "outputs": [
    {
     "data": {
      "text/plain": [
       "[[156122.0249114856,\n",
       "  206747.62798551098,\n",
       "  156135.29025549442,\n",
       "  206765.82113752142]]"
      ]
     },
     "execution_count": 13,
     "metadata": {},
     "output_type": "execute_result"
    }
   ],
   "source": [
    "polygon_bounds = [[left,bottom, right, top]]\n",
    "polygon_bounds"
   ]
  },
  {
   "cell_type": "code",
   "execution_count": 14,
   "id": "9210c3d5",
   "metadata": {},
   "outputs": [],
   "source": [
    "# find to which file belong polygon_bounds - loop over the the DTM_bounds.csv"
   ]
  },
  {
   "cell_type": "code",
   "execution_count": 15,
   "id": "2776e3dc",
   "metadata": {},
   "outputs": [],
   "source": [
    "df = pd.read_csv('DTM_bounds.csv')"
   ]
  },
  {
   "cell_type": "code",
   "execution_count": 16,
   "id": "01f3e03f",
   "metadata": {},
   "outputs": [
    {
     "name": "stdout",
     "output_type": "stream",
     "text": [
      "zip+https://downloadagiv.blob.core.windows.net/dhm-vlaanderen-ii-dsm-raster-1m/DHMVIIDSMRAS1m_k15.zip!/GeoTIFF/DHMVIIDSMRAS1m_k15.tif\n",
      "zip+https://downloadagiv.blob.core.windows.net/dhm-vlaanderen-ii-dtm-raster-1m/DHMVIIDTMRAS1m_k15.zip!/GeoTIFF/DHMVIIDTMRAS1m_k15.tif\n"
     ]
    }
   ],
   "source": [
    "for index, row in df.iterrows():\n",
    "    if left >= row.left and right <= row.right and top <= row.top and bottom >= row.bottom:\n",
    "        right_dtm_url = row.url_dtm\n",
    "        right_dsm_url = row.url_dsm\n",
    "print(right_dsm_url)       \n",
    "print(right_dtm_url)         "
   ]
  },
  {
   "cell_type": "code",
   "execution_count": 17,
   "id": "44788da9",
   "metadata": {},
   "outputs": [],
   "source": [
    "# clip DSM file with rasterio\n",
    "with fiona.open(\"C:/Users/kasia/pyproj/3D_houses/shapefiles/polygon.shp\", \"r\") as shapefile:\n",
    "    shapes = [feature[\"geometry\"] for feature in shapefile]\n",
    "\n",
    "with rasterio.open(right_dsm_url) as src:\n",
    "    out_image, out_transform = rasterio.mask.mask(src, shapes, crop=True)\n",
    "    out_meta = src.meta\n",
    "    \n",
    "out_meta.update({\"driver\": \"GTiff\",\n",
    "                 \"height\": out_image.shape[1],\n",
    "                 \"width\": out_image.shape[2],\n",
    "                 \"transform\": out_transform})"
   ]
  },
  {
   "cell_type": "code",
   "execution_count": 18,
   "id": "fb024483",
   "metadata": {},
   "outputs": [],
   "source": [
    "with rasterio.open(\"C:/Users/kasia/pyproj/3D_houses/DSM_clip.tif\", \"w\", **out_meta) as dest:\n",
    "    dest.write(out_image)    "
   ]
  },
  {
   "cell_type": "code",
   "execution_count": 19,
   "id": "14dfe5b7",
   "metadata": {},
   "outputs": [],
   "source": [
    "#with rasterio.open(\"DSM_clip.tif\") as src:\n",
    "#    DSM_clip = src.read(1, masked=True)  \n",
    "#    src.close()"
   ]
  },
  {
   "cell_type": "code",
   "execution_count": 109,
   "id": "61d4bc33",
   "metadata": {},
   "outputs": [],
   "source": [
    "with rioxarray.open_rasterio(\"C:/Users/kasia/pyproj/3D_houses/DSM_clip.tif\", masked = True) as src:\n",
    "    DSM_clip = src"
   ]
  },
  {
   "cell_type": "code",
   "execution_count": 21,
   "id": "fbad01a3",
   "metadata": {},
   "outputs": [],
   "source": [
    "# clip DTM file with rasterio\n",
    "with rasterio.open(right_dtm_url) as src:\n",
    "    out_image, out_transform = rasterio.mask.mask(src, shapes, crop=True)\n",
    "    out_meta = src.meta\n",
    "    \n",
    "out_meta.update({\"driver\": \"GTiff\",\n",
    "                 \"height\": out_image.shape[1],\n",
    "                 \"width\": out_image.shape[2],\n",
    "                 \"transform\": out_transform})\n",
    "\n"
   ]
  },
  {
   "cell_type": "code",
   "execution_count": 108,
   "id": "8de4d6e0",
   "metadata": {},
   "outputs": [
    {
     "ename": "CPLE_AppDefinedError",
     "evalue": "Deleting C:/Users/kasia/pyproj/3D_houses/DTM_clip.tif failed: Permission denied",
     "output_type": "error",
     "traceback": [
      "\u001b[1;31m---------------------------------------------------------------------------\u001b[0m",
      "\u001b[1;31mCPLE_AppDefinedError\u001b[0m                      Traceback (most recent call last)",
      "\u001b[1;32m~\\AppData\\Local\\Temp/ipykernel_2064/3266642250.py\u001b[0m in \u001b[0;36m<module>\u001b[1;34m\u001b[0m\n\u001b[1;32m----> 1\u001b[1;33m \u001b[1;32mwith\u001b[0m \u001b[0mrasterio\u001b[0m\u001b[1;33m.\u001b[0m\u001b[0mopen\u001b[0m\u001b[1;33m(\u001b[0m\u001b[1;34m\"C:/Users/kasia/pyproj/3D_houses/DTM_clip.tif\"\u001b[0m\u001b[1;33m,\u001b[0m \u001b[1;34m\"w\"\u001b[0m\u001b[1;33m,\u001b[0m \u001b[1;33m**\u001b[0m\u001b[0mout_meta\u001b[0m\u001b[1;33m)\u001b[0m \u001b[1;32mas\u001b[0m \u001b[0mdest\u001b[0m\u001b[1;33m:\u001b[0m\u001b[1;33m\u001b[0m\u001b[1;33m\u001b[0m\u001b[0m\n\u001b[0m\u001b[0;32m      2\u001b[0m     \u001b[0mdest\u001b[0m\u001b[1;33m.\u001b[0m\u001b[0mwrite\u001b[0m\u001b[1;33m(\u001b[0m\u001b[0mout_image\u001b[0m\u001b[1;33m)\u001b[0m\u001b[1;33m\u001b[0m\u001b[1;33m\u001b[0m\u001b[0m\n",
      "\u001b[1;32mc:\\users\\kasia\\pyproj\\3d_houses\\my_env\\lib\\site-packages\\rasterio\\env.py\u001b[0m in \u001b[0;36mwrapper\u001b[1;34m(*args, **kwds)\u001b[0m\n\u001b[0;32m    435\u001b[0m \u001b[1;33m\u001b[0m\u001b[0m\n\u001b[0;32m    436\u001b[0m         \u001b[1;32mwith\u001b[0m \u001b[0menv_ctor\u001b[0m\u001b[1;33m(\u001b[0m\u001b[0msession\u001b[0m\u001b[1;33m=\u001b[0m\u001b[0msession\u001b[0m\u001b[1;33m)\u001b[0m\u001b[1;33m:\u001b[0m\u001b[1;33m\u001b[0m\u001b[1;33m\u001b[0m\u001b[0m\n\u001b[1;32m--> 437\u001b[1;33m             \u001b[1;32mreturn\u001b[0m \u001b[0mf\u001b[0m\u001b[1;33m(\u001b[0m\u001b[1;33m*\u001b[0m\u001b[0margs\u001b[0m\u001b[1;33m,\u001b[0m \u001b[1;33m**\u001b[0m\u001b[0mkwds\u001b[0m\u001b[1;33m)\u001b[0m\u001b[1;33m\u001b[0m\u001b[1;33m\u001b[0m\u001b[0m\n\u001b[0m\u001b[0;32m    438\u001b[0m \u001b[1;33m\u001b[0m\u001b[0m\n\u001b[0;32m    439\u001b[0m     \u001b[1;32mreturn\u001b[0m \u001b[0mwrapper\u001b[0m\u001b[1;33m\u001b[0m\u001b[1;33m\u001b[0m\u001b[0m\n",
      "\u001b[1;32mc:\\users\\kasia\\pyproj\\3d_houses\\my_env\\lib\\site-packages\\rasterio\\__init__.py\u001b[0m in \u001b[0;36mopen\u001b[1;34m(fp, mode, driver, width, height, count, crs, transform, dtype, nodata, sharing, **kwargs)\u001b[0m\n\u001b[0;32m    236\u001b[0m             \u001b[0mwriter\u001b[0m \u001b[1;33m=\u001b[0m \u001b[0mget_writer_for_driver\u001b[0m\u001b[1;33m(\u001b[0m\u001b[0mdriver\u001b[0m\u001b[1;33m)\u001b[0m\u001b[1;33m\u001b[0m\u001b[1;33m\u001b[0m\u001b[0m\n\u001b[0;32m    237\u001b[0m             \u001b[1;32mif\u001b[0m \u001b[0mwriter\u001b[0m \u001b[1;32mis\u001b[0m \u001b[1;32mnot\u001b[0m \u001b[1;32mNone\u001b[0m\u001b[1;33m:\u001b[0m\u001b[1;33m\u001b[0m\u001b[1;33m\u001b[0m\u001b[0m\n\u001b[1;32m--> 238\u001b[1;33m                 s = writer(path, mode, driver=driver,\n\u001b[0m\u001b[0;32m    239\u001b[0m                            \u001b[0mwidth\u001b[0m\u001b[1;33m=\u001b[0m\u001b[0mwidth\u001b[0m\u001b[1;33m,\u001b[0m \u001b[0mheight\u001b[0m\u001b[1;33m=\u001b[0m\u001b[0mheight\u001b[0m\u001b[1;33m,\u001b[0m\u001b[1;33m\u001b[0m\u001b[1;33m\u001b[0m\u001b[0m\n\u001b[0;32m    240\u001b[0m                            \u001b[0mcount\u001b[0m\u001b[1;33m=\u001b[0m\u001b[0mcount\u001b[0m\u001b[1;33m,\u001b[0m \u001b[0mcrs\u001b[0m\u001b[1;33m=\u001b[0m\u001b[0mcrs\u001b[0m\u001b[1;33m,\u001b[0m\u001b[1;33m\u001b[0m\u001b[1;33m\u001b[0m\u001b[0m\n",
      "\u001b[1;32mrasterio\\_io.pyx\u001b[0m in \u001b[0;36mrasterio._io.DatasetWriterBase.__init__\u001b[1;34m()\u001b[0m\n",
      "\u001b[1;32mrasterio\\_io.pyx\u001b[0m in \u001b[0;36mrasterio._io._delete_dataset_if_exists\u001b[1;34m()\u001b[0m\n",
      "\u001b[1;32mrasterio\\_err.pyx\u001b[0m in \u001b[0;36mrasterio._err.exc_wrap_int\u001b[1;34m()\u001b[0m\n",
      "\u001b[1;31mCPLE_AppDefinedError\u001b[0m: Deleting C:/Users/kasia/pyproj/3D_houses/DTM_clip.tif failed: Permission denied"
     ]
    }
   ],
   "source": [
    "with rasterio.open(\"C:/Users/kasia/pyproj/3D_houses/DTM_clip.tif\", \"w\", **out_meta) as dest:\n",
    "    dest.write(out_image)  "
   ]
  },
  {
   "cell_type": "code",
   "execution_count": 110,
   "id": "2a25ad6c",
   "metadata": {},
   "outputs": [],
   "source": [
    "with rioxarray.open_rasterio(\"C:/Users/kasia/pyproj/3D_houses/DTM_clip.tif\", masked = True) as src:\n",
    "    DTM_clip = src"
   ]
  },
  {
   "cell_type": "code",
   "execution_count": 24,
   "id": "59b71c75",
   "metadata": {},
   "outputs": [],
   "source": [
    "#with rasterio.open(\"DTM_clip.tif\") as src:\n",
    "#    DTM_clip = src.read(1, masked=True) \n",
    "#    src.close()"
   ]
  },
  {
   "cell_type": "code",
   "execution_count": 111,
   "id": "2a2076d9",
   "metadata": {},
   "outputs": [],
   "source": [
    "CHM_clip = DSM_clip - DTM_clip"
   ]
  },
  {
   "cell_type": "code",
   "execution_count": 112,
   "id": "4ad11f4f",
   "metadata": {},
   "outputs": [
    {
     "data": {
      "text/plain": [
       "xarray.core.dataarray.DataArray"
      ]
     },
     "execution_count": 112,
     "metadata": {},
     "output_type": "execute_result"
    }
   ],
   "source": [
    "type(CHM_clip)"
   ]
  },
  {
   "cell_type": "code",
   "execution_count": 113,
   "id": "a0e19b2f",
   "metadata": {},
   "outputs": [],
   "source": [
    "CHM_clip = CHM_clip.fillna(0)"
   ]
  },
  {
   "cell_type": "code",
   "execution_count": 99,
   "id": "af95f295",
   "metadata": {},
   "outputs": [],
   "source": [
    "#CHM_clip.compute()"
   ]
  },
  {
   "cell_type": "code",
   "execution_count": 87,
   "id": "9e7068c7",
   "metadata": {},
   "outputs": [],
   "source": [
    "CHM_clip_padded = np.pad(CHM_clip, pad_width=1)"
   ]
  },
  {
   "cell_type": "code",
   "execution_count": 105,
   "id": "fa86566e",
   "metadata": {},
   "outputs": [
    {
     "data": {
      "text/plain": [
       "(1, 19, 14)"
      ]
     },
     "execution_count": 105,
     "metadata": {},
     "output_type": "execute_result"
    }
   ],
   "source": [
    "CHM_clip.shape"
   ]
  },
  {
   "cell_type": "code",
   "execution_count": 114,
   "id": "99399e04",
   "metadata": {},
   "outputs": [],
   "source": [
    "CHM_clip = CHM_clip[0]"
   ]
  },
  {
   "cell_type": "code",
   "execution_count": null,
   "id": "f9b8acb1",
   "metadata": {},
   "outputs": [],
   "source": []
  },
  {
   "cell_type": "code",
   "execution_count": 74,
   "id": "6d106018",
   "metadata": {},
   "outputs": [],
   "source": [
    "#CHM_clip.values"
   ]
  },
  {
   "cell_type": "code",
   "execution_count": 115,
   "id": "d1775fc4",
   "metadata": {},
   "outputs": [
    {
     "ename": "SyntaxError",
     "evalue": "invalid syntax (Temp/ipykernel_2064/3200820981.py, line 4)",
     "output_type": "error",
     "traceback": [
      "\u001b[1;36m  File \u001b[1;32m\"C:\\Users\\kasia\\AppData\\Local\\Temp/ipykernel_2064/3200820981.py\"\u001b[1;36m, line \u001b[1;32m4\u001b[0m\n\u001b[1;33m    fig = go.Figure(data=[go.Surface(z=z, x=x, y=y)])\u001b[0m\n\u001b[1;37m    ^\u001b[0m\n\u001b[1;31mSyntaxError\u001b[0m\u001b[1;31m:\u001b[0m invalid syntax\n"
     ]
    }
   ],
   "source": [
    "#plotly\n",
    "z = CHM_clip_padded\n",
    "x, y = np.meshgrid(np.arange(CHM_clip_padded.shape[1],np.arange(CHM_clip_padded.shape[0]))\n",
    "fig = go.Figure(data=[go.Surface(z=z, x=x, y=y)])\n",
    "fig.update_layout(title='3D House Model', autosize=False)\n",
    "fig.show()"
   ]
  },
  {
   "cell_type": "code",
   "execution_count": 107,
   "id": "db8b71be",
   "metadata": {},
   "outputs": [
    {
     "data": {
      "application/vnd.plotly.v1+json": {
       "config": {
        "plotlyServerURL": "https://plot.ly"
       },
       "data": [
        {
         "colorscale": [
          [
           0,
           "rgb(0, 128, 128)"
          ],
          [
           0.16666666666666666,
           "rgb(112, 164, 148)"
          ],
          [
           0.3333333333333333,
           "rgb(180, 200, 168)"
          ],
          [
           0.5,
           "rgb(246, 237, 189)"
          ],
          [
           0.6666666666666666,
           "rgb(237, 187, 138)"
          ],
          [
           0.8333333333333334,
           "rgb(222, 138, 90)"
          ],
          [
           1,
           "rgb(202, 86, 44)"
          ]
         ],
         "opacity": 0.9,
         "type": "surface",
         "z": [
          [
           0,
           0,
           0,
           0,
           0,
           0,
           0,
           15.510000228881836,
           0,
           0,
           0,
           0,
           0,
           0
          ],
          [
           0,
           0,
           0,
           0,
           8.950000762939453,
           15.210000991821289,
           14.150001525878906,
           15.139997482299805,
           0,
           0,
           0,
           0,
           0,
           0
          ],
          [
           0,
           15.319999694824219,
           15.409997940063477,
           15.429998397827148,
           15.260000228881836,
           15.250001907348633,
           15.210000991821289,
           15.179998397827148,
           15.499998092651367,
           0,
           0,
           0,
           0,
           0
          ],
          [
           15.609790802001953,
           14.183473587036133,
           14.205940246582031,
           15.07054328918457,
           15.349998474121094,
           15.240001678466797,
           15.200000762939453,
           15.200000762939453,
           15.169998168945312,
           0,
           0,
           0,
           0,
           0
          ],
          [
           0,
           15.239412307739258,
           12.06256103515625,
           15.054340362548828,
           15.512937545776367,
           16.96385955810547,
           15.229997634887695,
           15.19999885559082,
           15.170000076293945,
           0,
           0,
           0,
           0,
           0
          ],
          [
           0,
           14.532854080200195,
           15.224632263183594,
           15.152803421020508,
           15.673336029052734,
           15.592018127441406,
           15.30036735534668,
           15.2127685546875,
           15.193510055541992,
           15.489999771118164,
           0,
           0,
           0,
           0
          ],
          [
           0,
           15.580366134643555,
           15.572319030761719,
           15.453224182128906,
           15.421916961669922,
           15.75193977355957,
           15.249353408813477,
           15.233236312866211,
           15.189006805419922,
           15.267387390136719,
           0,
           0,
           0,
           0
          ],
          [
           0,
           0,
           15.502176284790039,
           15.495246887207031,
           15.443138122558594,
           15.394529342651367,
           15.270317077636719,
           15.241846084594727,
           15.212358474731445,
           15.196050643920898,
           0,
           0,
           0,
           0
          ],
          [
           0,
           0,
           15.456560134887695,
           15.383638381958008,
           15.632883071899414,
           15.321332931518555,
           15.259994506835938,
           15.238740921020508,
           15.240253448486328,
           15.185720443725586,
           15.310001373291016,
           0,
           0,
           0
          ],
          [
           0,
           0,
           15.366922378540039,
           15.364618301391602,
           16.00483512878418,
           15.432025909423828,
           15.295936584472656,
           15.272136688232422,
           15.23147964477539,
           15.202093124389648,
           15.185447692871094,
           0,
           0,
           0
          ],
          [
           0,
           0,
           0,
           15.96552848815918,
           15.365365982055664,
           15.332172393798828,
           15.29019546508789,
           15.249032974243164,
           15.218542098999023,
           15.193471908569336,
           15.173894882202148,
           0,
           0,
           0
          ],
          [
           0,
           0,
           0,
           15.394041061401367,
           15.368457794189453,
           15.325206756591797,
           15.31273078918457,
           15.260452270507812,
           15.25115966796875,
           15.198005676269531,
           15.186927795410156,
           15.290000915527344,
           0,
           0
          ],
          [
           0,
           0,
           0,
           15.533613204956055,
           15.364959716796875,
           15.350456237792969,
           15.317283630371094,
           15.25459098815918,
           15.254755020141602,
           15.226465225219727,
           15.170000076293945,
           15.280000686645508,
           0,
           0
          ],
          [
           0,
           0,
           0,
           0,
           15.385660171508789,
           15.350362777709961,
           15.334211349487305,
           15.283611297607422,
           15.244792938232422,
           15.219999313354492,
           15.209999084472656,
           15.180000305175781,
           15.489997863769531,
           0
          ],
          [
           0,
           0,
           0,
           0,
           15.405618667602539,
           15.349363327026367,
           15.355430603027344,
           15.290077209472656,
           15.269998550415039,
           15.230001449584961,
           15.209999084472656,
           15.160001754760742,
           15.360000610351562,
           0
          ],
          [
           0,
           0,
           0,
           0,
           0,
           15.375434875488281,
           15.329813003540039,
           15.299278259277344,
           15.279998779296875,
           15.269998550415039,
           15.219999313354492,
           15.170001983642578,
           15.329998016357422,
           0
          ],
          [
           0,
           0,
           0,
           0,
           0,
           15.382713317871094,
           15.343496322631836,
           15.279998779296875,
           15.329999923706055,
           15.270002365112305,
           12.59000015258789,
           0,
           0,
           0
          ],
          [
           0,
           0,
           0,
           0,
           0,
           15.423175811767578,
           6.971719741821289,
           13.659997940063477,
           0,
           0,
           0,
           0,
           0,
           0
          ],
          [
           0,
           0,
           0,
           0,
           0,
           0,
           0,
           0,
           0,
           0,
           0,
           0,
           0,
           0
          ]
         ]
        }
       ],
       "layout": {
        "height": 700,
        "scene": {
         "xaxis": {
          "title": {
           "text": "X AXIS TITLE"
          }
         },
         "yaxis": {
          "title": {
           "text": "Y AXIS TITLE"
          }
         },
         "zaxis": {
          "title": {
           "text": "Z AXIS TITLE"
          }
         }
        },
        "template": {
         "data": {
          "bar": [
           {
            "error_x": {
             "color": "#2a3f5f"
            },
            "error_y": {
             "color": "#2a3f5f"
            },
            "marker": {
             "line": {
              "color": "#E5ECF6",
              "width": 0.5
             },
             "pattern": {
              "fillmode": "overlay",
              "size": 10,
              "solidity": 0.2
             }
            },
            "type": "bar"
           }
          ],
          "barpolar": [
           {
            "marker": {
             "line": {
              "color": "#E5ECF6",
              "width": 0.5
             },
             "pattern": {
              "fillmode": "overlay",
              "size": 10,
              "solidity": 0.2
             }
            },
            "type": "barpolar"
           }
          ],
          "carpet": [
           {
            "aaxis": {
             "endlinecolor": "#2a3f5f",
             "gridcolor": "white",
             "linecolor": "white",
             "minorgridcolor": "white",
             "startlinecolor": "#2a3f5f"
            },
            "baxis": {
             "endlinecolor": "#2a3f5f",
             "gridcolor": "white",
             "linecolor": "white",
             "minorgridcolor": "white",
             "startlinecolor": "#2a3f5f"
            },
            "type": "carpet"
           }
          ],
          "choropleth": [
           {
            "colorbar": {
             "outlinewidth": 0,
             "ticks": ""
            },
            "type": "choropleth"
           }
          ],
          "contour": [
           {
            "colorbar": {
             "outlinewidth": 0,
             "ticks": ""
            },
            "colorscale": [
             [
              0,
              "#0d0887"
             ],
             [
              0.1111111111111111,
              "#46039f"
             ],
             [
              0.2222222222222222,
              "#7201a8"
             ],
             [
              0.3333333333333333,
              "#9c179e"
             ],
             [
              0.4444444444444444,
              "#bd3786"
             ],
             [
              0.5555555555555556,
              "#d8576b"
             ],
             [
              0.6666666666666666,
              "#ed7953"
             ],
             [
              0.7777777777777778,
              "#fb9f3a"
             ],
             [
              0.8888888888888888,
              "#fdca26"
             ],
             [
              1,
              "#f0f921"
             ]
            ],
            "type": "contour"
           }
          ],
          "contourcarpet": [
           {
            "colorbar": {
             "outlinewidth": 0,
             "ticks": ""
            },
            "type": "contourcarpet"
           }
          ],
          "heatmap": [
           {
            "colorbar": {
             "outlinewidth": 0,
             "ticks": ""
            },
            "colorscale": [
             [
              0,
              "#0d0887"
             ],
             [
              0.1111111111111111,
              "#46039f"
             ],
             [
              0.2222222222222222,
              "#7201a8"
             ],
             [
              0.3333333333333333,
              "#9c179e"
             ],
             [
              0.4444444444444444,
              "#bd3786"
             ],
             [
              0.5555555555555556,
              "#d8576b"
             ],
             [
              0.6666666666666666,
              "#ed7953"
             ],
             [
              0.7777777777777778,
              "#fb9f3a"
             ],
             [
              0.8888888888888888,
              "#fdca26"
             ],
             [
              1,
              "#f0f921"
             ]
            ],
            "type": "heatmap"
           }
          ],
          "heatmapgl": [
           {
            "colorbar": {
             "outlinewidth": 0,
             "ticks": ""
            },
            "colorscale": [
             [
              0,
              "#0d0887"
             ],
             [
              0.1111111111111111,
              "#46039f"
             ],
             [
              0.2222222222222222,
              "#7201a8"
             ],
             [
              0.3333333333333333,
              "#9c179e"
             ],
             [
              0.4444444444444444,
              "#bd3786"
             ],
             [
              0.5555555555555556,
              "#d8576b"
             ],
             [
              0.6666666666666666,
              "#ed7953"
             ],
             [
              0.7777777777777778,
              "#fb9f3a"
             ],
             [
              0.8888888888888888,
              "#fdca26"
             ],
             [
              1,
              "#f0f921"
             ]
            ],
            "type": "heatmapgl"
           }
          ],
          "histogram": [
           {
            "marker": {
             "pattern": {
              "fillmode": "overlay",
              "size": 10,
              "solidity": 0.2
             }
            },
            "type": "histogram"
           }
          ],
          "histogram2d": [
           {
            "colorbar": {
             "outlinewidth": 0,
             "ticks": ""
            },
            "colorscale": [
             [
              0,
              "#0d0887"
             ],
             [
              0.1111111111111111,
              "#46039f"
             ],
             [
              0.2222222222222222,
              "#7201a8"
             ],
             [
              0.3333333333333333,
              "#9c179e"
             ],
             [
              0.4444444444444444,
              "#bd3786"
             ],
             [
              0.5555555555555556,
              "#d8576b"
             ],
             [
              0.6666666666666666,
              "#ed7953"
             ],
             [
              0.7777777777777778,
              "#fb9f3a"
             ],
             [
              0.8888888888888888,
              "#fdca26"
             ],
             [
              1,
              "#f0f921"
             ]
            ],
            "type": "histogram2d"
           }
          ],
          "histogram2dcontour": [
           {
            "colorbar": {
             "outlinewidth": 0,
             "ticks": ""
            },
            "colorscale": [
             [
              0,
              "#0d0887"
             ],
             [
              0.1111111111111111,
              "#46039f"
             ],
             [
              0.2222222222222222,
              "#7201a8"
             ],
             [
              0.3333333333333333,
              "#9c179e"
             ],
             [
              0.4444444444444444,
              "#bd3786"
             ],
             [
              0.5555555555555556,
              "#d8576b"
             ],
             [
              0.6666666666666666,
              "#ed7953"
             ],
             [
              0.7777777777777778,
              "#fb9f3a"
             ],
             [
              0.8888888888888888,
              "#fdca26"
             ],
             [
              1,
              "#f0f921"
             ]
            ],
            "type": "histogram2dcontour"
           }
          ],
          "mesh3d": [
           {
            "colorbar": {
             "outlinewidth": 0,
             "ticks": ""
            },
            "type": "mesh3d"
           }
          ],
          "parcoords": [
           {
            "line": {
             "colorbar": {
              "outlinewidth": 0,
              "ticks": ""
             }
            },
            "type": "parcoords"
           }
          ],
          "pie": [
           {
            "automargin": true,
            "type": "pie"
           }
          ],
          "scatter": [
           {
            "marker": {
             "colorbar": {
              "outlinewidth": 0,
              "ticks": ""
             }
            },
            "type": "scatter"
           }
          ],
          "scatter3d": [
           {
            "line": {
             "colorbar": {
              "outlinewidth": 0,
              "ticks": ""
             }
            },
            "marker": {
             "colorbar": {
              "outlinewidth": 0,
              "ticks": ""
             }
            },
            "type": "scatter3d"
           }
          ],
          "scattercarpet": [
           {
            "marker": {
             "colorbar": {
              "outlinewidth": 0,
              "ticks": ""
             }
            },
            "type": "scattercarpet"
           }
          ],
          "scattergeo": [
           {
            "marker": {
             "colorbar": {
              "outlinewidth": 0,
              "ticks": ""
             }
            },
            "type": "scattergeo"
           }
          ],
          "scattergl": [
           {
            "marker": {
             "colorbar": {
              "outlinewidth": 0,
              "ticks": ""
             }
            },
            "type": "scattergl"
           }
          ],
          "scattermapbox": [
           {
            "marker": {
             "colorbar": {
              "outlinewidth": 0,
              "ticks": ""
             }
            },
            "type": "scattermapbox"
           }
          ],
          "scatterpolar": [
           {
            "marker": {
             "colorbar": {
              "outlinewidth": 0,
              "ticks": ""
             }
            },
            "type": "scatterpolar"
           }
          ],
          "scatterpolargl": [
           {
            "marker": {
             "colorbar": {
              "outlinewidth": 0,
              "ticks": ""
             }
            },
            "type": "scatterpolargl"
           }
          ],
          "scatterternary": [
           {
            "marker": {
             "colorbar": {
              "outlinewidth": 0,
              "ticks": ""
             }
            },
            "type": "scatterternary"
           }
          ],
          "surface": [
           {
            "colorbar": {
             "outlinewidth": 0,
             "ticks": ""
            },
            "colorscale": [
             [
              0,
              "#0d0887"
             ],
             [
              0.1111111111111111,
              "#46039f"
             ],
             [
              0.2222222222222222,
              "#7201a8"
             ],
             [
              0.3333333333333333,
              "#9c179e"
             ],
             [
              0.4444444444444444,
              "#bd3786"
             ],
             [
              0.5555555555555556,
              "#d8576b"
             ],
             [
              0.6666666666666666,
              "#ed7953"
             ],
             [
              0.7777777777777778,
              "#fb9f3a"
             ],
             [
              0.8888888888888888,
              "#fdca26"
             ],
             [
              1,
              "#f0f921"
             ]
            ],
            "type": "surface"
           }
          ],
          "table": [
           {
            "cells": {
             "fill": {
              "color": "#EBF0F8"
             },
             "line": {
              "color": "white"
             }
            },
            "header": {
             "fill": {
              "color": "#C8D4E3"
             },
             "line": {
              "color": "white"
             }
            },
            "type": "table"
           }
          ]
         },
         "layout": {
          "annotationdefaults": {
           "arrowcolor": "#2a3f5f",
           "arrowhead": 0,
           "arrowwidth": 1
          },
          "autotypenumbers": "strict",
          "coloraxis": {
           "colorbar": {
            "outlinewidth": 0,
            "ticks": ""
           }
          },
          "colorscale": {
           "diverging": [
            [
             0,
             "#8e0152"
            ],
            [
             0.1,
             "#c51b7d"
            ],
            [
             0.2,
             "#de77ae"
            ],
            [
             0.3,
             "#f1b6da"
            ],
            [
             0.4,
             "#fde0ef"
            ],
            [
             0.5,
             "#f7f7f7"
            ],
            [
             0.6,
             "#e6f5d0"
            ],
            [
             0.7,
             "#b8e186"
            ],
            [
             0.8,
             "#7fbc41"
            ],
            [
             0.9,
             "#4d9221"
            ],
            [
             1,
             "#276419"
            ]
           ],
           "sequential": [
            [
             0,
             "#0d0887"
            ],
            [
             0.1111111111111111,
             "#46039f"
            ],
            [
             0.2222222222222222,
             "#7201a8"
            ],
            [
             0.3333333333333333,
             "#9c179e"
            ],
            [
             0.4444444444444444,
             "#bd3786"
            ],
            [
             0.5555555555555556,
             "#d8576b"
            ],
            [
             0.6666666666666666,
             "#ed7953"
            ],
            [
             0.7777777777777778,
             "#fb9f3a"
            ],
            [
             0.8888888888888888,
             "#fdca26"
            ],
            [
             1,
             "#f0f921"
            ]
           ],
           "sequentialminus": [
            [
             0,
             "#0d0887"
            ],
            [
             0.1111111111111111,
             "#46039f"
            ],
            [
             0.2222222222222222,
             "#7201a8"
            ],
            [
             0.3333333333333333,
             "#9c179e"
            ],
            [
             0.4444444444444444,
             "#bd3786"
            ],
            [
             0.5555555555555556,
             "#d8576b"
            ],
            [
             0.6666666666666666,
             "#ed7953"
            ],
            [
             0.7777777777777778,
             "#fb9f3a"
            ],
            [
             0.8888888888888888,
             "#fdca26"
            ],
            [
             1,
             "#f0f921"
            ]
           ]
          },
          "colorway": [
           "#636efa",
           "#EF553B",
           "#00cc96",
           "#ab63fa",
           "#FFA15A",
           "#19d3f3",
           "#FF6692",
           "#B6E880",
           "#FF97FF",
           "#FECB52"
          ],
          "font": {
           "color": "#2a3f5f"
          },
          "geo": {
           "bgcolor": "white",
           "lakecolor": "white",
           "landcolor": "#E5ECF6",
           "showlakes": true,
           "showland": true,
           "subunitcolor": "white"
          },
          "hoverlabel": {
           "align": "left"
          },
          "hovermode": "closest",
          "mapbox": {
           "style": "light"
          },
          "paper_bgcolor": "white",
          "plot_bgcolor": "#E5ECF6",
          "polar": {
           "angularaxis": {
            "gridcolor": "white",
            "linecolor": "white",
            "ticks": ""
           },
           "bgcolor": "#E5ECF6",
           "radialaxis": {
            "gridcolor": "white",
            "linecolor": "white",
            "ticks": ""
           }
          },
          "scene": {
           "xaxis": {
            "backgroundcolor": "#E5ECF6",
            "gridcolor": "white",
            "gridwidth": 2,
            "linecolor": "white",
            "showbackground": true,
            "ticks": "",
            "zerolinecolor": "white"
           },
           "yaxis": {
            "backgroundcolor": "#E5ECF6",
            "gridcolor": "white",
            "gridwidth": 2,
            "linecolor": "white",
            "showbackground": true,
            "ticks": "",
            "zerolinecolor": "white"
           },
           "zaxis": {
            "backgroundcolor": "#E5ECF6",
            "gridcolor": "white",
            "gridwidth": 2,
            "linecolor": "white",
            "showbackground": true,
            "ticks": "",
            "zerolinecolor": "white"
           }
          },
          "shapedefaults": {
           "line": {
            "color": "#2a3f5f"
           }
          },
          "ternary": {
           "aaxis": {
            "gridcolor": "white",
            "linecolor": "white",
            "ticks": ""
           },
           "baxis": {
            "gridcolor": "white",
            "linecolor": "white",
            "ticks": ""
           },
           "bgcolor": "#E5ECF6",
           "caxis": {
            "gridcolor": "white",
            "linecolor": "white",
            "ticks": ""
           }
          },
          "title": {
           "x": 0.05
          },
          "xaxis": {
           "automargin": true,
           "gridcolor": "white",
           "linecolor": "white",
           "ticks": "",
           "title": {
            "standoff": 15
           },
           "zerolinecolor": "white",
           "zerolinewidth": 2
          },
          "yaxis": {
           "automargin": true,
           "gridcolor": "white",
           "linecolor": "white",
           "ticks": "",
           "title": {
            "standoff": 15
           },
           "zerolinecolor": "white",
           "zerolinewidth": 2
          }
         }
        },
        "width": 700
       }
      },
      "text/html": [
       "<div>                            <div id=\"b74d2fea-3b88-41ed-a2ce-24f6b7bf1ae3\" class=\"plotly-graph-div\" style=\"height:700px; width:700px;\"></div>            <script type=\"text/javascript\">                require([\"plotly\"], function(Plotly) {                    window.PLOTLYENV=window.PLOTLYENV || {};                                    if (document.getElementById(\"b74d2fea-3b88-41ed-a2ce-24f6b7bf1ae3\")) {                    Plotly.newPlot(                        \"b74d2fea-3b88-41ed-a2ce-24f6b7bf1ae3\",                        [{\"colorscale\":[[0.0,\"rgb(0, 128, 128)\"],[0.16666666666666666,\"rgb(112, 164, 148)\"],[0.3333333333333333,\"rgb(180, 200, 168)\"],[0.5,\"rgb(246, 237, 189)\"],[0.6666666666666666,\"rgb(237, 187, 138)\"],[0.8333333333333334,\"rgb(222, 138, 90)\"],[1.0,\"rgb(202, 86, 44)\"]],\"opacity\":0.9,\"type\":\"surface\",\"z\":[[0.0,0.0,0.0,0.0,0.0,0.0,0.0,15.510000228881836,0.0,0.0,0.0,0.0,0.0,0.0],[0.0,0.0,0.0,0.0,8.950000762939453,15.210000991821289,14.150001525878906,15.139997482299805,0.0,0.0,0.0,0.0,0.0,0.0],[0.0,15.319999694824219,15.409997940063477,15.429998397827148,15.260000228881836,15.250001907348633,15.210000991821289,15.179998397827148,15.499998092651367,0.0,0.0,0.0,0.0,0.0],[15.609790802001953,14.183473587036133,14.205940246582031,15.07054328918457,15.349998474121094,15.240001678466797,15.200000762939453,15.200000762939453,15.169998168945312,0.0,0.0,0.0,0.0,0.0],[0.0,15.239412307739258,12.06256103515625,15.054340362548828,15.512937545776367,16.96385955810547,15.229997634887695,15.19999885559082,15.170000076293945,0.0,0.0,0.0,0.0,0.0],[0.0,14.532854080200195,15.224632263183594,15.152803421020508,15.673336029052734,15.592018127441406,15.30036735534668,15.2127685546875,15.193510055541992,15.489999771118164,0.0,0.0,0.0,0.0],[0.0,15.580366134643555,15.572319030761719,15.453224182128906,15.421916961669922,15.75193977355957,15.249353408813477,15.233236312866211,15.189006805419922,15.267387390136719,0.0,0.0,0.0,0.0],[0.0,0.0,15.502176284790039,15.495246887207031,15.443138122558594,15.394529342651367,15.270317077636719,15.241846084594727,15.212358474731445,15.196050643920898,0.0,0.0,0.0,0.0],[0.0,0.0,15.456560134887695,15.383638381958008,15.632883071899414,15.321332931518555,15.259994506835938,15.238740921020508,15.240253448486328,15.185720443725586,15.310001373291016,0.0,0.0,0.0],[0.0,0.0,15.366922378540039,15.364618301391602,16.00483512878418,15.432025909423828,15.295936584472656,15.272136688232422,15.23147964477539,15.202093124389648,15.185447692871094,0.0,0.0,0.0],[0.0,0.0,0.0,15.96552848815918,15.365365982055664,15.332172393798828,15.29019546508789,15.249032974243164,15.218542098999023,15.193471908569336,15.173894882202148,0.0,0.0,0.0],[0.0,0.0,0.0,15.394041061401367,15.368457794189453,15.325206756591797,15.31273078918457,15.260452270507812,15.25115966796875,15.198005676269531,15.186927795410156,15.290000915527344,0.0,0.0],[0.0,0.0,0.0,15.533613204956055,15.364959716796875,15.350456237792969,15.317283630371094,15.25459098815918,15.254755020141602,15.226465225219727,15.170000076293945,15.280000686645508,0.0,0.0],[0.0,0.0,0.0,0.0,15.385660171508789,15.350362777709961,15.334211349487305,15.283611297607422,15.244792938232422,15.219999313354492,15.209999084472656,15.180000305175781,15.489997863769531,0.0],[0.0,0.0,0.0,0.0,15.405618667602539,15.349363327026367,15.355430603027344,15.290077209472656,15.269998550415039,15.230001449584961,15.209999084472656,15.160001754760742,15.360000610351562,0.0],[0.0,0.0,0.0,0.0,0.0,15.375434875488281,15.329813003540039,15.299278259277344,15.279998779296875,15.269998550415039,15.219999313354492,15.170001983642578,15.329998016357422,0.0],[0.0,0.0,0.0,0.0,0.0,15.382713317871094,15.343496322631836,15.279998779296875,15.329999923706055,15.270002365112305,12.59000015258789,0.0,0.0,0.0],[0.0,0.0,0.0,0.0,0.0,15.423175811767578,6.971719741821289,13.659997940063477,0.0,0.0,0.0,0.0,0.0,0.0],[0.0,0.0,0.0,0.0,0.0,0.0,0.0,0.0,0.0,0.0,0.0,0.0,0.0,0.0]]}],                        {\"height\":700,\"scene\":{\"xaxis\":{\"title\":{\"text\":\"X AXIS TITLE\"}},\"yaxis\":{\"title\":{\"text\":\"Y AXIS TITLE\"}},\"zaxis\":{\"title\":{\"text\":\"Z AXIS TITLE\"}}},\"template\":{\"data\":{\"bar\":[{\"error_x\":{\"color\":\"#2a3f5f\"},\"error_y\":{\"color\":\"#2a3f5f\"},\"marker\":{\"line\":{\"color\":\"#E5ECF6\",\"width\":0.5},\"pattern\":{\"fillmode\":\"overlay\",\"size\":10,\"solidity\":0.2}},\"type\":\"bar\"}],\"barpolar\":[{\"marker\":{\"line\":{\"color\":\"#E5ECF6\",\"width\":0.5},\"pattern\":{\"fillmode\":\"overlay\",\"size\":10,\"solidity\":0.2}},\"type\":\"barpolar\"}],\"carpet\":[{\"aaxis\":{\"endlinecolor\":\"#2a3f5f\",\"gridcolor\":\"white\",\"linecolor\":\"white\",\"minorgridcolor\":\"white\",\"startlinecolor\":\"#2a3f5f\"},\"baxis\":{\"endlinecolor\":\"#2a3f5f\",\"gridcolor\":\"white\",\"linecolor\":\"white\",\"minorgridcolor\":\"white\",\"startlinecolor\":\"#2a3f5f\"},\"type\":\"carpet\"}],\"choropleth\":[{\"colorbar\":{\"outlinewidth\":0,\"ticks\":\"\"},\"type\":\"choropleth\"}],\"contour\":[{\"colorbar\":{\"outlinewidth\":0,\"ticks\":\"\"},\"colorscale\":[[0.0,\"#0d0887\"],[0.1111111111111111,\"#46039f\"],[0.2222222222222222,\"#7201a8\"],[0.3333333333333333,\"#9c179e\"],[0.4444444444444444,\"#bd3786\"],[0.5555555555555556,\"#d8576b\"],[0.6666666666666666,\"#ed7953\"],[0.7777777777777778,\"#fb9f3a\"],[0.8888888888888888,\"#fdca26\"],[1.0,\"#f0f921\"]],\"type\":\"contour\"}],\"contourcarpet\":[{\"colorbar\":{\"outlinewidth\":0,\"ticks\":\"\"},\"type\":\"contourcarpet\"}],\"heatmap\":[{\"colorbar\":{\"outlinewidth\":0,\"ticks\":\"\"},\"colorscale\":[[0.0,\"#0d0887\"],[0.1111111111111111,\"#46039f\"],[0.2222222222222222,\"#7201a8\"],[0.3333333333333333,\"#9c179e\"],[0.4444444444444444,\"#bd3786\"],[0.5555555555555556,\"#d8576b\"],[0.6666666666666666,\"#ed7953\"],[0.7777777777777778,\"#fb9f3a\"],[0.8888888888888888,\"#fdca26\"],[1.0,\"#f0f921\"]],\"type\":\"heatmap\"}],\"heatmapgl\":[{\"colorbar\":{\"outlinewidth\":0,\"ticks\":\"\"},\"colorscale\":[[0.0,\"#0d0887\"],[0.1111111111111111,\"#46039f\"],[0.2222222222222222,\"#7201a8\"],[0.3333333333333333,\"#9c179e\"],[0.4444444444444444,\"#bd3786\"],[0.5555555555555556,\"#d8576b\"],[0.6666666666666666,\"#ed7953\"],[0.7777777777777778,\"#fb9f3a\"],[0.8888888888888888,\"#fdca26\"],[1.0,\"#f0f921\"]],\"type\":\"heatmapgl\"}],\"histogram\":[{\"marker\":{\"pattern\":{\"fillmode\":\"overlay\",\"size\":10,\"solidity\":0.2}},\"type\":\"histogram\"}],\"histogram2d\":[{\"colorbar\":{\"outlinewidth\":0,\"ticks\":\"\"},\"colorscale\":[[0.0,\"#0d0887\"],[0.1111111111111111,\"#46039f\"],[0.2222222222222222,\"#7201a8\"],[0.3333333333333333,\"#9c179e\"],[0.4444444444444444,\"#bd3786\"],[0.5555555555555556,\"#d8576b\"],[0.6666666666666666,\"#ed7953\"],[0.7777777777777778,\"#fb9f3a\"],[0.8888888888888888,\"#fdca26\"],[1.0,\"#f0f921\"]],\"type\":\"histogram2d\"}],\"histogram2dcontour\":[{\"colorbar\":{\"outlinewidth\":0,\"ticks\":\"\"},\"colorscale\":[[0.0,\"#0d0887\"],[0.1111111111111111,\"#46039f\"],[0.2222222222222222,\"#7201a8\"],[0.3333333333333333,\"#9c179e\"],[0.4444444444444444,\"#bd3786\"],[0.5555555555555556,\"#d8576b\"],[0.6666666666666666,\"#ed7953\"],[0.7777777777777778,\"#fb9f3a\"],[0.8888888888888888,\"#fdca26\"],[1.0,\"#f0f921\"]],\"type\":\"histogram2dcontour\"}],\"mesh3d\":[{\"colorbar\":{\"outlinewidth\":0,\"ticks\":\"\"},\"type\":\"mesh3d\"}],\"parcoords\":[{\"line\":{\"colorbar\":{\"outlinewidth\":0,\"ticks\":\"\"}},\"type\":\"parcoords\"}],\"pie\":[{\"automargin\":true,\"type\":\"pie\"}],\"scatter\":[{\"marker\":{\"colorbar\":{\"outlinewidth\":0,\"ticks\":\"\"}},\"type\":\"scatter\"}],\"scatter3d\":[{\"line\":{\"colorbar\":{\"outlinewidth\":0,\"ticks\":\"\"}},\"marker\":{\"colorbar\":{\"outlinewidth\":0,\"ticks\":\"\"}},\"type\":\"scatter3d\"}],\"scattercarpet\":[{\"marker\":{\"colorbar\":{\"outlinewidth\":0,\"ticks\":\"\"}},\"type\":\"scattercarpet\"}],\"scattergeo\":[{\"marker\":{\"colorbar\":{\"outlinewidth\":0,\"ticks\":\"\"}},\"type\":\"scattergeo\"}],\"scattergl\":[{\"marker\":{\"colorbar\":{\"outlinewidth\":0,\"ticks\":\"\"}},\"type\":\"scattergl\"}],\"scattermapbox\":[{\"marker\":{\"colorbar\":{\"outlinewidth\":0,\"ticks\":\"\"}},\"type\":\"scattermapbox\"}],\"scatterpolar\":[{\"marker\":{\"colorbar\":{\"outlinewidth\":0,\"ticks\":\"\"}},\"type\":\"scatterpolar\"}],\"scatterpolargl\":[{\"marker\":{\"colorbar\":{\"outlinewidth\":0,\"ticks\":\"\"}},\"type\":\"scatterpolargl\"}],\"scatterternary\":[{\"marker\":{\"colorbar\":{\"outlinewidth\":0,\"ticks\":\"\"}},\"type\":\"scatterternary\"}],\"surface\":[{\"colorbar\":{\"outlinewidth\":0,\"ticks\":\"\"},\"colorscale\":[[0.0,\"#0d0887\"],[0.1111111111111111,\"#46039f\"],[0.2222222222222222,\"#7201a8\"],[0.3333333333333333,\"#9c179e\"],[0.4444444444444444,\"#bd3786\"],[0.5555555555555556,\"#d8576b\"],[0.6666666666666666,\"#ed7953\"],[0.7777777777777778,\"#fb9f3a\"],[0.8888888888888888,\"#fdca26\"],[1.0,\"#f0f921\"]],\"type\":\"surface\"}],\"table\":[{\"cells\":{\"fill\":{\"color\":\"#EBF0F8\"},\"line\":{\"color\":\"white\"}},\"header\":{\"fill\":{\"color\":\"#C8D4E3\"},\"line\":{\"color\":\"white\"}},\"type\":\"table\"}]},\"layout\":{\"annotationdefaults\":{\"arrowcolor\":\"#2a3f5f\",\"arrowhead\":0,\"arrowwidth\":1},\"autotypenumbers\":\"strict\",\"coloraxis\":{\"colorbar\":{\"outlinewidth\":0,\"ticks\":\"\"}},\"colorscale\":{\"diverging\":[[0,\"#8e0152\"],[0.1,\"#c51b7d\"],[0.2,\"#de77ae\"],[0.3,\"#f1b6da\"],[0.4,\"#fde0ef\"],[0.5,\"#f7f7f7\"],[0.6,\"#e6f5d0\"],[0.7,\"#b8e186\"],[0.8,\"#7fbc41\"],[0.9,\"#4d9221\"],[1,\"#276419\"]],\"sequential\":[[0.0,\"#0d0887\"],[0.1111111111111111,\"#46039f\"],[0.2222222222222222,\"#7201a8\"],[0.3333333333333333,\"#9c179e\"],[0.4444444444444444,\"#bd3786\"],[0.5555555555555556,\"#d8576b\"],[0.6666666666666666,\"#ed7953\"],[0.7777777777777778,\"#fb9f3a\"],[0.8888888888888888,\"#fdca26\"],[1.0,\"#f0f921\"]],\"sequentialminus\":[[0.0,\"#0d0887\"],[0.1111111111111111,\"#46039f\"],[0.2222222222222222,\"#7201a8\"],[0.3333333333333333,\"#9c179e\"],[0.4444444444444444,\"#bd3786\"],[0.5555555555555556,\"#d8576b\"],[0.6666666666666666,\"#ed7953\"],[0.7777777777777778,\"#fb9f3a\"],[0.8888888888888888,\"#fdca26\"],[1.0,\"#f0f921\"]]},\"colorway\":[\"#636efa\",\"#EF553B\",\"#00cc96\",\"#ab63fa\",\"#FFA15A\",\"#19d3f3\",\"#FF6692\",\"#B6E880\",\"#FF97FF\",\"#FECB52\"],\"font\":{\"color\":\"#2a3f5f\"},\"geo\":{\"bgcolor\":\"white\",\"lakecolor\":\"white\",\"landcolor\":\"#E5ECF6\",\"showlakes\":true,\"showland\":true,\"subunitcolor\":\"white\"},\"hoverlabel\":{\"align\":\"left\"},\"hovermode\":\"closest\",\"mapbox\":{\"style\":\"light\"},\"paper_bgcolor\":\"white\",\"plot_bgcolor\":\"#E5ECF6\",\"polar\":{\"angularaxis\":{\"gridcolor\":\"white\",\"linecolor\":\"white\",\"ticks\":\"\"},\"bgcolor\":\"#E5ECF6\",\"radialaxis\":{\"gridcolor\":\"white\",\"linecolor\":\"white\",\"ticks\":\"\"}},\"scene\":{\"xaxis\":{\"backgroundcolor\":\"#E5ECF6\",\"gridcolor\":\"white\",\"gridwidth\":2,\"linecolor\":\"white\",\"showbackground\":true,\"ticks\":\"\",\"zerolinecolor\":\"white\"},\"yaxis\":{\"backgroundcolor\":\"#E5ECF6\",\"gridcolor\":\"white\",\"gridwidth\":2,\"linecolor\":\"white\",\"showbackground\":true,\"ticks\":\"\",\"zerolinecolor\":\"white\"},\"zaxis\":{\"backgroundcolor\":\"#E5ECF6\",\"gridcolor\":\"white\",\"gridwidth\":2,\"linecolor\":\"white\",\"showbackground\":true,\"ticks\":\"\",\"zerolinecolor\":\"white\"}},\"shapedefaults\":{\"line\":{\"color\":\"#2a3f5f\"}},\"ternary\":{\"aaxis\":{\"gridcolor\":\"white\",\"linecolor\":\"white\",\"ticks\":\"\"},\"baxis\":{\"gridcolor\":\"white\",\"linecolor\":\"white\",\"ticks\":\"\"},\"bgcolor\":\"#E5ECF6\",\"caxis\":{\"gridcolor\":\"white\",\"linecolor\":\"white\",\"ticks\":\"\"}},\"title\":{\"x\":0.05},\"xaxis\":{\"automargin\":true,\"gridcolor\":\"white\",\"linecolor\":\"white\",\"ticks\":\"\",\"title\":{\"standoff\":15},\"zerolinecolor\":\"white\",\"zerolinewidth\":2},\"yaxis\":{\"automargin\":true,\"gridcolor\":\"white\",\"linecolor\":\"white\",\"ticks\":\"\",\"title\":{\"standoff\":15},\"zerolinecolor\":\"white\",\"zerolinewidth\":2}}},\"width\":700},                        {\"responsive\": true}                    ).then(function(){\n",
       "                            \n",
       "var gd = document.getElementById('b74d2fea-3b88-41ed-a2ce-24f6b7bf1ae3');\n",
       "var x = new MutationObserver(function (mutations, observer) {{\n",
       "        var display = window.getComputedStyle(gd).display;\n",
       "        if (!display || display === 'none') {{\n",
       "            console.log([gd, 'removed!']);\n",
       "            Plotly.purge(gd);\n",
       "            observer.disconnect();\n",
       "        }}\n",
       "}});\n",
       "\n",
       "// Listen for the removal of the full notebook cells\n",
       "var notebookContainer = gd.closest('#notebook-container');\n",
       "if (notebookContainer) {{\n",
       "    x.observe(notebookContainer, {childList: true});\n",
       "}}\n",
       "\n",
       "// Listen for the clearing of the current output cell\n",
       "var outputEl = gd.closest('.output');\n",
       "if (outputEl) {{\n",
       "    x.observe(outputEl, {childList: true});\n",
       "}}\n",
       "\n",
       "                        })                };                });            </script>        </div>"
      ]
     },
     "metadata": {},
     "output_type": "display_data"
    }
   ],
   "source": [
    "fig = go.Figure(data=go.Surface (z= CHM_clip , opacity=0.9, colorscale='geyser'))\n",
    "                  \n",
    "\n",
    "fig.update_layout(scene = dict(\n",
    "                    xaxis_title='X AXIS TITLE',\n",
    "                    yaxis_title='Y AXIS TITLE',\n",
    "                    zaxis_title='Z AXIS TITLE'),\n",
    "                    width=700,\n",
    "                    height = 700\n",
    "                  )\n",
    "\n",
    "fig.show()"
   ]
  },
  {
   "cell_type": "code",
   "execution_count": 77,
   "id": "bf78fc5c",
   "metadata": {},
   "outputs": [
    {
     "data": {
      "image/png": "[encoded data removed]",
      "text/plain": [
       "<Figure size 1440x1440 with 1 Axes>"
      ]
     },
     "metadata": {
      "needs_background": "light"
     },
     "output_type": "display_data"
    }
   ],
   "source": [
    "# matplotlib\n",
    "# initialize figure and axes3D objects\n",
    "fig = plt.figure(figsize = (20,20))\n",
    "ax = fig.add_subplot(111, projection='3d')\n",
    "\n",
    "# plotting the 3D data\n",
    "X, Y = np.meshgrid(np.arange(CHM_clip.shape[1]), np.arange(CHM_clip.shape[0]))\n",
    "ax.plot_surface(X, Y, CHM_clip)\n",
    "plt.xticks(rotation=90)\n",
    "ax.axis(\"off\")\n",
    "plt.show()"
   ]
  },
  {
   "cell_type": "code",
   "execution_count": null,
   "id": "9e799d4c",
   "metadata": {},
   "outputs": [],
   "source": []
  },
  {
   "cell_type": "code",
   "execution_count": null,
   "id": "007aaeb6",
   "metadata": {},
   "outputs": [],
   "source": []
  },
  {
   "cell_type": "code",
   "execution_count": null,
   "id": "701152ac",
   "metadata": {},
   "outputs": [],
   "source": []
  },
  {
   "cell_type": "code",
   "execution_count": null,
   "id": "b568cf17",
   "metadata": {},
   "outputs": [],
   "source": []
  }
 ],
 "metadata": {
  "kernelspec": {
   "display_name": "Python 3 (ipykernel)",
   "language": "python",
   "name": "python3"
  },
  "language_info": {
   "codemirror_mode": {
    "name": "ipython",
    "version": 3
   },
   "file_extension": ".py",
   "mimetype": "text/x-python",
   "name": "python",
   "nbconvert_exporter": "python",
   "pygments_lexer": "ipython3",
   "version": "3.9.4"
  }
 },
 "nbformat": 4,
 "nbformat_minor": 5
}
