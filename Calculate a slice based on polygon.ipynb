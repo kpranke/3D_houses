{
 "cells": [
  {
   "cell_type": "code",
   "execution_count": 1,
   "id": "5196fbf8",
   "metadata": {},
   "outputs": [],
   "source": [
    "import pandas as pd\n",
    "import geopandas as gpd\n",
    "import rasterio\n",
    "import rasterio.features\n",
    "import rasterio.warp\n",
    "from rasterio.plot import show\n",
    "#Importing the Nominatim geocoder class \n",
    "#from geopy.geocoders import Nominatim\n",
    "from shapely.geometry import point, Polygon\n",
    "import rioxarray\n",
    "from pyproj import CRS\n",
    "from mpl_toolkits import mplot3d\n",
    "import numpy as np\n",
    "import matplotlib.pyplot as plt\n",
    "import requests\n",
    "from osgeo import gdal\n",
    "from osgeo import ogr\n",
    "import fiona\n",
    "%matplotlib inline\n",
    "from shapely.geometry import Polygon\n",
    "import shapefile"
   ]
  },
  {
   "cell_type": "code",
   "execution_count": 2,
   "id": "f5337bd0",
   "metadata": {},
   "outputs": [
    {
     "name": "stdout",
     "output_type": "stream",
     "text": [
      "Provide a valid address in Flanders: Moerkantsebaan 34, 2910 Essen\n"
     ]
    }
   ],
   "source": [
    "address = input('Provide a valid address in Flanders: ')\n",
    "#Heikantstraat 124, 2910 Essen\n",
    "#Epicealaan 28, 2910 Essen\n",
    "#Moerkantsebaan 34, 2910 Essen\n",
    "#Maststraat 2, 2910 Essen"
   ]
  },
  {
   "cell_type": "code",
   "execution_count": 3,
   "id": "6f09c1ba",
   "metadata": {},
   "outputs": [],
   "source": [
    "# get a polygoon based on address in Flanders\n",
    "\n",
    "def get_coordinates(address: str):\n",
    "    req = requests.get(f\"https://loc.geopunt.be/v4/Location?q={address}\").json()\n",
    "    info = {'address' : address, \n",
    "                'x_value' : req['LocationResult'][0]['Location']['X_Lambert72'],\n",
    "                'y_value' : req['LocationResult'][0]['Location']['Y_Lambert72'],\n",
    "                'street' : req['LocationResult'][0]['Thoroughfarename'],\n",
    "                'house_number' : req['LocationResult'][0]['Housenumber'], \n",
    "                'postcode': req['LocationResult'][0]['Zipcode'], \n",
    "                'municipality' : req['LocationResult'][0]['Municipality']}\n",
    "    \n",
    "    detail = requests.get(\"https://api.basisregisters.vlaanderen.be/v1/adresmatch\", \n",
    "                          params={\"postcode\": info['postcode'], \n",
    "                                  \"straatnaam\": info['street'],\n",
    "                                  \"huisnummer\": info['house_number']}).json()\n",
    "    building = requests.get(detail['adresMatches'][0]['adresseerbareObjecten'][0]['detail']).json()\n",
    "    build = requests.get(building['gebouw']['detail']).json()\n",
    "    info['polygon'] = [build['geometriePolygoon']['polygon']]\n",
    "    return info['polygon'][0]['coordinates'][0] "
   ]
  },
  {
   "cell_type": "code",
   "execution_count": 25,
   "id": "571b6279",
   "metadata": {},
   "outputs": [],
   "source": [
    "# store polygon in a variable\n",
    "polygon = get_coordinates(address)"
   ]
  },
  {
   "cell_type": "code",
   "execution_count": 26,
   "id": "fba031c5",
   "metadata": {},
   "outputs": [],
   "source": [
    "x_polygon = [i[0] for i in polygon]"
   ]
  },
  {
   "cell_type": "code",
   "execution_count": 27,
   "id": "cc3dbc40",
   "metadata": {},
   "outputs": [],
   "source": [
    "y_polygon = [i[1] for i in polygon]"
   ]
  },
  {
   "cell_type": "code",
   "execution_count": 28,
   "id": "1c914f92",
   "metadata": {},
   "outputs": [],
   "source": [
    "# convert polygon to a Shapely format\n",
    "polygon_shapely = Polygon(polygon)\n",
    "\n",
    "# save a polygon to a .shp file\n",
    "w = shapefile.Writer('shapefiles/polygon')\n",
    "w.field('name', 'C')\n",
    "\n",
    "w.poly([polygon])\n",
    "w.record('polygon1')\n",
    "\n",
    "w.close()"
   ]
  },
  {
   "cell_type": "code",
   "execution_count": 21,
   "id": "67fdfff0",
   "metadata": {},
   "outputs": [],
   "source": [
    "polygon_path = 'C:/Users/kasia/pyproj/3D_houses/shapefiles/polygon.shp'"
   ]
  },
  {
   "cell_type": "code",
   "execution_count": 30,
   "id": "3754e121",
   "metadata": {},
   "outputs": [],
   "source": [
    "# calculate bounds of a rectangle that contains the polygon\n",
    "left = min(x_polygon)\n",
    "right = max(x_polygon)\n",
    "top = max(y_polygon)\n",
    "bottom = min(y_polygon)\n",
    "# print(f\"left = {left}, right = {right}, top = {top}, bottom = {bottom}\")"
   ]
  },
  {
   "cell_type": "code",
   "execution_count": 9,
   "id": "e712575f",
   "metadata": {},
   "outputs": [
    {
     "data": {
      "text/plain": [
       "float"
      ]
     },
     "execution_count": 9,
     "metadata": {},
     "output_type": "execute_result"
    }
   ],
   "source": [
    "type(left)"
   ]
  },
  {
   "cell_type": "code",
   "execution_count": 10,
   "id": "159ceffa",
   "metadata": {},
   "outputs": [],
   "source": [
    "# create a rectangle which contains the polygoon (left,bottom, right, top)"
   ]
  },
  {
   "cell_type": "code",
   "execution_count": 11,
   "id": "60b76f87",
   "metadata": {},
   "outputs": [
    {
     "data": {
      "text/plain": [
       "[[155143.31067080796,\n",
       "  238855.5521037057,\n",
       "  155223.95828686655,\n",
       "  238914.83779974654]]"
      ]
     },
     "execution_count": 11,
     "metadata": {},
     "output_type": "execute_result"
    }
   ],
   "source": [
    "polygon_bounds = [[left,bottom, right, top]]\n",
    "polygon_bounds"
   ]
  },
  {
   "cell_type": "code",
   "execution_count": 12,
   "id": "9210c3d5",
   "metadata": {},
   "outputs": [],
   "source": [
    "# find to which file belong polygon_bounds - loop over the the DTM_bounds.csv"
   ]
  },
  {
   "cell_type": "code",
   "execution_count": 13,
   "id": "2776e3dc",
   "metadata": {},
   "outputs": [],
   "source": [
    "df = pd.read_csv('DTM_bounds.csv')"
   ]
  },
  {
   "cell_type": "code",
   "execution_count": 14,
   "id": "85d7860a",
   "metadata": {},
   "outputs": [
    {
     "name": "stdout",
     "output_type": "stream",
     "text": [
      "<class 'pandas.core.frame.DataFrame'>\n",
      "RangeIndex: 43 entries, 0 to 42\n",
      "Data columns (total 6 columns):\n",
      " #   Column   Non-Null Count  Dtype  \n",
      "---  ------   --------------  -----  \n",
      " 0   url_dtm  43 non-null     object \n",
      " 1   url_dsm  43 non-null     object \n",
      " 2   left     43 non-null     float64\n",
      " 3   right    43 non-null     float64\n",
      " 4   top      43 non-null     float64\n",
      " 5   bottom   43 non-null     float64\n",
      "dtypes: float64(4), object(2)\n",
      "memory usage: 2.1+ KB\n"
     ]
    }
   ],
   "source": [
    "df.info()"
   ]
  },
  {
   "cell_type": "code",
   "execution_count": 15,
   "id": "a014c197",
   "metadata": {},
   "outputs": [
    {
     "data": {
      "text/html": [
       "<div>\n",
       "<style scoped>\n",
       "    .dataframe tbody tr th:only-of-type {\n",
       "        vertical-align: middle;\n",
       "    }\n",
       "\n",
       "    .dataframe tbody tr th {\n",
       "        vertical-align: top;\n",
       "    }\n",
       "\n",
       "    .dataframe thead th {\n",
       "        text-align: right;\n",
       "    }\n",
       "</style>\n",
       "<table border=\"1\" class=\"dataframe\">\n",
       "  <thead>\n",
       "    <tr style=\"text-align: right;\">\n",
       "      <th></th>\n",
       "      <th>url_dtm</th>\n",
       "      <th>url_dsm</th>\n",
       "      <th>left</th>\n",
       "      <th>right</th>\n",
       "      <th>top</th>\n",
       "      <th>bottom</th>\n",
       "    </tr>\n",
       "  </thead>\n",
       "  <tbody>\n",
       "    <tr>\n",
       "      <th>0</th>\n",
       "      <td>zip+https://downloadagiv.blob.core.windows.net...</td>\n",
       "      <td>zip+https://downloadagiv.blob.core.windows.net...</td>\n",
       "      <td>145000.0</td>\n",
       "      <td>162000.0</td>\n",
       "      <td>247000.0</td>\n",
       "      <td>238000.0</td>\n",
       "    </tr>\n",
       "    <tr>\n",
       "      <th>1</th>\n",
       "      <td>zip+https://downloadagiv.blob.core.windows.net...</td>\n",
       "      <td>zip+https://downloadagiv.blob.core.windows.net...</td>\n",
       "      <td>162000.0</td>\n",
       "      <td>194000.0</td>\n",
       "      <td>250000.0</td>\n",
       "      <td>238000.0</td>\n",
       "    </tr>\n",
       "    <tr>\n",
       "      <th>2</th>\n",
       "      <td>zip+https://downloadagiv.blob.core.windows.net...</td>\n",
       "      <td>zip+https://downloadagiv.blob.core.windows.net...</td>\n",
       "      <td>194000.0</td>\n",
       "      <td>206000.0</td>\n",
       "      <td>248000.0</td>\n",
       "      <td>238000.0</td>\n",
       "    </tr>\n",
       "    <tr>\n",
       "      <th>3</th>\n",
       "      <td>zip+https://downloadagiv.blob.core.windows.net...</td>\n",
       "      <td>zip+https://downloadagiv.blob.core.windows.net...</td>\n",
       "      <td>53000.0</td>\n",
       "      <td>66000.0</td>\n",
       "      <td>225500.0</td>\n",
       "      <td>218000.0</td>\n",
       "    </tr>\n",
       "    <tr>\n",
       "      <th>4</th>\n",
       "      <td>zip+https://downloadagiv.blob.core.windows.net...</td>\n",
       "      <td>zip+https://downloadagiv.blob.core.windows.net...</td>\n",
       "      <td>66000.0</td>\n",
       "      <td>98000.0</td>\n",
       "      <td>232000.0</td>\n",
       "      <td>218000.0</td>\n",
       "    </tr>\n",
       "  </tbody>\n",
       "</table>\n",
       "</div>"
      ],
      "text/plain": [
       "                                             url_dtm  \\\n",
       "0  zip+https://downloadagiv.blob.core.windows.net...   \n",
       "1  zip+https://downloadagiv.blob.core.windows.net...   \n",
       "2  zip+https://downloadagiv.blob.core.windows.net...   \n",
       "3  zip+https://downloadagiv.blob.core.windows.net...   \n",
       "4  zip+https://downloadagiv.blob.core.windows.net...   \n",
       "\n",
       "                                             url_dsm      left     right  \\\n",
       "0  zip+https://downloadagiv.blob.core.windows.net...  145000.0  162000.0   \n",
       "1  zip+https://downloadagiv.blob.core.windows.net...  162000.0  194000.0   \n",
       "2  zip+https://downloadagiv.blob.core.windows.net...  194000.0  206000.0   \n",
       "3  zip+https://downloadagiv.blob.core.windows.net...   53000.0   66000.0   \n",
       "4  zip+https://downloadagiv.blob.core.windows.net...   66000.0   98000.0   \n",
       "\n",
       "        top    bottom  \n",
       "0  247000.0  238000.0  \n",
       "1  250000.0  238000.0  \n",
       "2  248000.0  238000.0  \n",
       "3  225500.0  218000.0  \n",
       "4  232000.0  218000.0  "
      ]
     },
     "execution_count": 15,
     "metadata": {},
     "output_type": "execute_result"
    }
   ],
   "source": [
    "df.head()"
   ]
  },
  {
   "cell_type": "code",
   "execution_count": 24,
   "id": "01f3e03f",
   "metadata": {},
   "outputs": [
    {
     "name": "stdout",
     "output_type": "stream",
     "text": [
      "zip+https://downloadagiv.blob.core.windows.net/dhm-vlaanderen-ii-dsm-raster-1m/DHMVIIDSMRAS1m_k01.zip!/GeoTIFF/DHMVIIDSMRAS1m_k01.tif\n"
     ]
    }
   ],
   "source": [
    "for index, row in df.iterrows():\n",
    "    if left >= row.left and right <= row.right and top <= row.top and bottom >= row.bottom:\n",
    "        right_dtm_url = row.url_dtm\n",
    "        right_dsm_url = row.url_dsm\n",
    "print(right_dsm_url)        "
   ]
  },
  {
   "cell_type": "code",
   "execution_count": 23,
   "id": "fbad01a3",
   "metadata": {},
   "outputs": [
    {
     "ename": "TypeError",
     "evalue": "object of wrong GDALDatasetShadow",
     "output_type": "error",
     "traceback": [
      "\u001b[1;31m---------------------------------------------------------------------------\u001b[0m",
      "\u001b[1;31mTypeError\u001b[0m                                 Traceback (most recent call last)",
      "\u001b[1;32m~\\AppData\\Local\\Temp/ipykernel_9160/2116720741.py\u001b[0m in \u001b[0;36m<module>\u001b[1;34m\u001b[0m\n\u001b[0;32m      1\u001b[0m \u001b[1;31m# clip polygon out of the geotiff DSM file\u001b[0m\u001b[1;33m\u001b[0m\u001b[1;33m\u001b[0m\u001b[1;33m\u001b[0m\u001b[0m\n\u001b[0;32m      2\u001b[0m \u001b[1;31m#DSM clip\u001b[0m\u001b[1;33m\u001b[0m\u001b[1;33m\u001b[0m\u001b[1;33m\u001b[0m\u001b[0m\n\u001b[1;32m----> 3\u001b[1;33m OutTile = gdal.Warp(\"C:/Users/kasia/pyproj/3D_houses/Clipped_files/DSM_clip.tif\", \n\u001b[0m\u001b[0;32m      4\u001b[0m                     \u001b[1;34mf\"{right_dsm_url}\"\u001b[0m\u001b[1;33m,\u001b[0m\u001b[1;33m\u001b[0m\u001b[1;33m\u001b[0m\u001b[0m\n\u001b[0;32m      5\u001b[0m                     \u001b[0mcutlineDSName\u001b[0m\u001b[1;33m=\u001b[0m\u001b[0mpolygon_path\u001b[0m\u001b[1;33m,\u001b[0m\u001b[1;33m\u001b[0m\u001b[1;33m\u001b[0m\u001b[0m\n",
      "\u001b[1;32mc:\\users\\kasia\\pyproj\\3d_houses\\my_env\\lib\\site-packages\\osgeo\\gdal.py\u001b[0m in \u001b[0;36mWarp\u001b[1;34m(destNameOrDestDS, srcDSOrSrcDSTab, **kwargs)\u001b[0m\n\u001b[0;32m    687\u001b[0m \u001b[1;33m\u001b[0m\u001b[0m\n\u001b[0;32m    688\u001b[0m     \u001b[1;32mif\u001b[0m \u001b[0misinstance\u001b[0m\u001b[1;33m(\u001b[0m\u001b[0mdestNameOrDestDS\u001b[0m\u001b[1;33m,\u001b[0m \u001b[0mstr\u001b[0m\u001b[1;33m)\u001b[0m\u001b[1;33m:\u001b[0m\u001b[1;33m\u001b[0m\u001b[1;33m\u001b[0m\u001b[0m\n\u001b[1;32m--> 689\u001b[1;33m         \u001b[1;32mreturn\u001b[0m \u001b[0mwrapper_GDALWarpDestName\u001b[0m\u001b[1;33m(\u001b[0m\u001b[0mdestNameOrDestDS\u001b[0m\u001b[1;33m,\u001b[0m \u001b[0msrcDSTab\u001b[0m\u001b[1;33m,\u001b[0m \u001b[0mopts\u001b[0m\u001b[1;33m,\u001b[0m \u001b[0mcallback\u001b[0m\u001b[1;33m,\u001b[0m \u001b[0mcallback_data\u001b[0m\u001b[1;33m)\u001b[0m\u001b[1;33m\u001b[0m\u001b[1;33m\u001b[0m\u001b[0m\n\u001b[0m\u001b[0;32m    690\u001b[0m     \u001b[1;32melse\u001b[0m\u001b[1;33m:\u001b[0m\u001b[1;33m\u001b[0m\u001b[1;33m\u001b[0m\u001b[0m\n\u001b[0;32m    691\u001b[0m         \u001b[1;32mreturn\u001b[0m \u001b[0mwrapper_GDALWarpDestDS\u001b[0m\u001b[1;33m(\u001b[0m\u001b[0mdestNameOrDestDS\u001b[0m\u001b[1;33m,\u001b[0m \u001b[0msrcDSTab\u001b[0m\u001b[1;33m,\u001b[0m \u001b[0mopts\u001b[0m\u001b[1;33m,\u001b[0m \u001b[0mcallback\u001b[0m\u001b[1;33m,\u001b[0m \u001b[0mcallback_data\u001b[0m\u001b[1;33m)\u001b[0m\u001b[1;33m\u001b[0m\u001b[1;33m\u001b[0m\u001b[0m\n",
      "\u001b[1;32mc:\\users\\kasia\\pyproj\\3d_houses\\my_env\\lib\\site-packages\\osgeo\\gdal.py\u001b[0m in \u001b[0;36mwrapper_GDALWarpDestName\u001b[1;34m(*args)\u001b[0m\n\u001b[0;32m   4588\u001b[0m \u001b[1;32mdef\u001b[0m \u001b[0mwrapper_GDALWarpDestName\u001b[0m\u001b[1;33m(\u001b[0m\u001b[1;33m*\u001b[0m\u001b[0margs\u001b[0m\u001b[1;33m)\u001b[0m\u001b[1;33m:\u001b[0m\u001b[1;33m\u001b[0m\u001b[1;33m\u001b[0m\u001b[0m\n\u001b[0;32m   4589\u001b[0m     \u001b[1;34m\"\"\"wrapper_GDALWarpDestName(char const * dest, int object_list_count, GDALWarpAppOptions warpAppOptions, GDALProgressFunc callback=0, void * callback_data=None) -> Dataset\"\"\"\u001b[0m\u001b[1;33m\u001b[0m\u001b[1;33m\u001b[0m\u001b[0m\n\u001b[1;32m-> 4590\u001b[1;33m     \u001b[1;32mreturn\u001b[0m \u001b[0m_gdal\u001b[0m\u001b[1;33m.\u001b[0m\u001b[0mwrapper_GDALWarpDestName\u001b[0m\u001b[1;33m(\u001b[0m\u001b[1;33m*\u001b[0m\u001b[0margs\u001b[0m\u001b[1;33m)\u001b[0m\u001b[1;33m\u001b[0m\u001b[1;33m\u001b[0m\u001b[0m\n\u001b[0m\u001b[0;32m   4591\u001b[0m \u001b[1;32mclass\u001b[0m \u001b[0mGDALVectorTranslateOptions\u001b[0m\u001b[1;33m(\u001b[0m\u001b[0m_object\u001b[0m\u001b[1;33m)\u001b[0m\u001b[1;33m:\u001b[0m\u001b[1;33m\u001b[0m\u001b[1;33m\u001b[0m\u001b[0m\n\u001b[0;32m   4592\u001b[0m     \u001b[1;34m\"\"\"Proxy of C++ GDALVectorTranslateOptions class.\"\"\"\u001b[0m\u001b[1;33m\u001b[0m\u001b[1;33m\u001b[0m\u001b[0m\n",
      "\u001b[1;31mTypeError\u001b[0m: object of wrong GDALDatasetShadow"
     ]
    }
   ],
   "source": [
    "# clip polygon out of the geotiff DSM file\n",
    "#DSM clip\n",
    "OutTile = gdal.Warp(\"C:/Users/kasia/pyproj/3D_houses/Clipped_files/DSM_clip.tif\", \n",
    "                    f\"{right_dsm_url}\", \n",
    "                    cutlineDSName=polygon_path,\n",
    "                    cropToCutline=True,\n",
    "                    dstNodata = 0)\n",
    "\n",
    "OutTile = None "
   ]
  },
  {
   "cell_type": "code",
   "execution_count": null,
   "id": "91bb2887",
   "metadata": {},
   "outputs": [],
   "source": []
  },
  {
   "cell_type": "code",
   "execution_count": null,
   "id": "2a2076d9",
   "metadata": {},
   "outputs": [],
   "source": []
  }
 ],
 "metadata": {
  "kernelspec": {
   "display_name": "Python 3 (ipykernel)",
   "language": "python",
   "name": "python3"
  },
  "language_info": {
   "codemirror_mode": {
    "name": "ipython",
    "version": 3
   },
   "file_extension": ".py",
   "mimetype": "text/x-python",
   "name": "python",
   "nbconvert_exporter": "python",
   "pygments_lexer": "ipython3",
   "version": "3.9.4"
  }
 },
 "nbformat": 4,
 "nbformat_minor": 5
}
